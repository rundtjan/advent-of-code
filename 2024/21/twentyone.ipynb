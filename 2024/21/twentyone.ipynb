{
 "cells": [
  {
   "metadata": {
    "ExecuteTime": {
     "end_time": "2024-12-29T15:41:26.560237Z",
     "start_time": "2024-12-29T15:41:26.557910Z"
    }
   },
   "cell_type": "code",
   "source": [
    "number_pad = [[7,8,9], [4,5,6], [1,2,3], ['X', 0, 'A']]\n",
    "direction_pad = [['X', '^', 'A'], ['<', 'v', '>']]"
   ],
   "id": "cbcde286d34d7053",
   "outputs": [],
   "execution_count": 9
  },
  {
   "metadata": {
    "ExecuteTime": {
     "end_time": "2024-12-29T15:41:26.614908Z",
     "start_time": "2024-12-29T15:41:26.607908Z"
    }
   },
   "cell_type": "code",
   "source": "directions = {(0, 1): '>', (0, -1): '<', (1, 0): 'v', (-1, 0): '^'}",
   "id": "c3ff781af488f089",
   "outputs": [],
   "execution_count": 10
  },
  {
   "metadata": {
    "ExecuteTime": {
     "end_time": "2024-12-29T15:41:26.662678Z",
     "start_time": "2024-12-29T15:41:26.659051Z"
    }
   },
   "cell_type": "code",
   "source": "memo = {}",
   "id": "dd61b5a5fe515bf5",
   "outputs": [],
   "execution_count": 11
  },
  {
   "metadata": {
    "ExecuteTime": {
     "end_time": "2024-12-29T15:41:26.719396Z",
     "start_time": "2024-12-29T15:41:26.710256Z"
    }
   },
   "cell_type": "code",
   "source": [
    "def traverse(pad, start_pos, end_pos, possible_paths, path=[]):\n",
    "    path.append(start_pos)\n",
    "    if start_pos == end_pos:\n",
    "        dir_path = []\n",
    "        for i, elem in enumerate(path):\n",
    "            if i == len(path) - 1:\n",
    "                dir_path.append('A')\n",
    "                break\n",
    "            dir = (path[i+1][0] - elem[0], path[i+1][1] - elem[1])\n",
    "            dir_path.append(directions[dir])\n",
    "        possible_paths.append(dir_path)\n",
    "        return\n",
    "    for dir in directions:\n",
    "        new_pos = (start_pos[0] + dir[0], start_pos[1] + dir[1])\n",
    "        if 0 <= new_pos[0] < len(pad) and 0 <= new_pos[1] < len(pad[0]) and pad[new_pos[0]][new_pos[1]] != 'X' and new_pos not in path:\n",
    "            traverse(pad, new_pos, end_pos, possible_paths, path[:])\n",
    "\n",
    "def find_possible_paths(start, end, pad):\n",
    "    if (start, end) in memo:\n",
    "        return memo[(start, end)]\n",
    "    for y, row in enumerate(pad):\n",
    "        for x, elem in enumerate(row):\n",
    "            if elem == start:\n",
    "                start_pos = (y, x)\n",
    "            if elem == end:\n",
    "                end_pos = (y, x)\n",
    "    possible_paths = []\n",
    "    traverse(pad, start_pos, end_pos, possible_paths, [])\n",
    "    least_changes = 99999999999\n",
    "    paths_by_changes = {}\n",
    "    # print(possible_paths)\n",
    "    for path in possible_paths:\n",
    "        if len(path) == 1:\n",
    "            memo[(start, end)] = path\n",
    "            return path\n",
    "        else:\n",
    "            changes = 0\n",
    "            current = path[0]\n",
    "            for elem in path[1:]:\n",
    "                if elem != current:\n",
    "                    changes += 1\n",
    "                current = elem\n",
    "            if changes < least_changes:\n",
    "                least_changes = changes\n",
    "                paths_by_changes[least_changes] = path\n",
    "    memo[(start, end)] = paths_by_changes[least_changes]\n",
    "    return paths_by_changes[least_changes]\n"
   ],
   "id": "7f438e568b6c43a6",
   "outputs": [],
   "execution_count": 12
  },
  {
   "metadata": {
    "ExecuteTime": {
     "end_time": "2024-12-29T15:41:26.775519Z",
     "start_time": "2024-12-29T15:41:26.769524Z"
    }
   },
   "cell_type": "code",
   "source": [
    "filename = 'input.txt'\n",
    "\n",
    "with open(filename) as f:\n",
    "    codes = [['A'] + list(line.strip()) for line in f.readlines()]\n",
    "codes"
   ],
   "id": "7814d5648ce7d9e0",
   "outputs": [
    {
     "data": {
      "text/plain": [
       "[['A', '1', '4', '0', 'A'],\n",
       " ['A', '1', '7', '0', 'A'],\n",
       " ['A', '1', '6', '9', 'A'],\n",
       " ['A', '8', '0', '3', 'A'],\n",
       " ['A', '1', '2', '9', 'A']]"
      ]
     },
     "execution_count": 13,
     "metadata": {},
     "output_type": "execute_result"
    }
   ],
   "execution_count": 13
  },
  {
   "metadata": {
    "ExecuteTime": {
     "end_time": "2024-12-29T15:41:26.830345Z",
     "start_time": "2024-12-29T15:41:26.825456Z"
    }
   },
   "cell_type": "code",
   "source": [
    "def recursive_path_finder(start, end, depth, end_depth, first):\n",
    "    key = f'{start}-{end}-{depth}'\n",
    "    if key in memo_len and not first:\n",
    "        return memo_len[key]\n",
    "    path = [start, end]\n",
    "    if first:\n",
    "        path = ['A'] + path\n",
    "    result_path = []\n",
    "    for i, elem in enumerate(path):\n",
    "        if i == len(path) - 1:\n",
    "            break\n",
    "        partial_path = find_possible_paths(elem, path[i + 1], direction_pad)\n",
    "        result_path += partial_path\n",
    "\n",
    "    if depth == end_depth:\n",
    "        if not first:\n",
    "            memo_len[key] = len(result_path)\n",
    "        return len(result_path)\n",
    "\n",
    "    if len(result_path) == 1 and result_path[0] == 'A':\n",
    "        if not first:\n",
    "            memo_len[key] = 1\n",
    "        return 1\n",
    "\n",
    "    sum_length = 0\n",
    "    for i, elem in enumerate(result_path):\n",
    "        if i == len(result_path) - 1:\n",
    "            break\n",
    "        sum_length += recursive_path_finder(elem, result_path[i + 1], depth + 1, end_depth, True if i == 0 else False)\n",
    "    if not first:\n",
    "        memo_len[key] = sum_length\n",
    "    return sum_length"
   ],
   "id": "d2b0b48c331aacf1",
   "outputs": [],
   "execution_count": 14
  },
  {
   "metadata": {
    "ExecuteTime": {
     "end_time": "2024-12-29T15:41:26.886702Z",
     "start_time": "2024-12-29T15:41:26.877141Z"
    }
   },
   "cell_type": "code",
   "source": [
    "path = []\n",
    "\n",
    "def possible_int(elem):\n",
    "    return int(elem) if elem != 'A' else elem\n",
    "\n",
    "index = 0\n",
    "for index in range(len(codes)):\n",
    "    path = []\n",
    "    for i, elem in enumerate(codes[index]):\n",
    "        if i == len(codes) - 1:\n",
    "            break\n",
    "        next_elem = codes[index][i + 1]\n",
    "        start = possible_int(elem)\n",
    "        end = possible_int(next_elem)\n",
    "        path += find_possible_paths(start, end, number_pad)\n",
    "\n",
    "    path_copy = path[:]\n",
    "\n",
    "    memo_len = {}\n",
    "\n",
    "    path_len = 0\n",
    "    for i, elem in enumerate(path_copy):\n",
    "        if i == len(path_copy) - 1:\n",
    "            break\n",
    "        path_len += recursive_path_finder(elem, path_copy[i+1], 1, 2, True if i == 0 else False)\n",
    "    print(path_len)\n"
   ],
   "id": "a065f0baff5b3ca4",
   "outputs": [
    {
     "name": "stdout",
     "output_type": "stream",
     "text": [
      "70\n",
      "72\n",
      "76\n",
      "76\n",
      "74\n"
     ]
    }
   ],
   "execution_count": 15
  },
  {
   "metadata": {
    "ExecuteTime": {
     "end_time": "2024-12-29T15:41:26.938917Z",
     "start_time": "2024-12-29T15:41:26.935022Z"
    }
   },
   "cell_type": "code",
   "source": "70 * 140 + 72*170 + 76*169 + 76*803 + 74*129",
   "id": "a9c74aa31f778ade",
   "outputs": [
    {
     "data": {
      "text/plain": [
       "105458"
      ]
     },
     "execution_count": 16,
     "metadata": {},
     "output_type": "execute_result"
    }
   ],
   "execution_count": 16
  }
 ],
 "metadata": {
  "kernelspec": {
   "name": "python3",
   "language": "python",
   "display_name": "Python 3 (ipykernel)"
  }
 },
 "nbformat": 5,
 "nbformat_minor": 9
}
