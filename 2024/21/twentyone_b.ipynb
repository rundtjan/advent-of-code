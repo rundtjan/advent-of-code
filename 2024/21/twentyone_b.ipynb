{
 "cells": [
  {
   "metadata": {
    "ExecuteTime": {
     "end_time": "2024-12-29T16:03:43.535500Z",
     "start_time": "2024-12-29T16:03:43.531674Z"
    }
   },
   "cell_type": "code",
   "source": [
    "number_pad = [[7,8,9], [4,5,6], [1,2,3], ['X', 0, 'A']]\n",
    "direction_pad = [['X', '^', 'A'], ['<', 'v', '>']]"
   ],
   "id": "cbcde286d34d7053",
   "outputs": [],
   "execution_count": 57
  },
  {
   "metadata": {
    "ExecuteTime": {
     "end_time": "2024-12-29T16:03:43.540488Z",
     "start_time": "2024-12-29T16:03:43.538615Z"
    }
   },
   "cell_type": "code",
   "source": "directions = {(0, 1): '>', (0, -1): '<', (1, 0): 'v', (-1, 0): '^'}",
   "id": "c3ff781af488f089",
   "outputs": [],
   "execution_count": 58
  },
  {
   "metadata": {
    "ExecuteTime": {
     "end_time": "2024-12-29T16:03:43.586710Z",
     "start_time": "2024-12-29T16:03:43.583472Z"
    }
   },
   "cell_type": "code",
   "source": "memo = {}",
   "id": "dd61b5a5fe515bf5",
   "outputs": [],
   "execution_count": 59
  },
  {
   "metadata": {
    "ExecuteTime": {
     "end_time": "2024-12-29T16:03:43.637887Z",
     "start_time": "2024-12-29T16:03:43.633679Z"
    }
   },
   "cell_type": "code",
   "source": "simple_memo = {}",
   "id": "e0c8da2f3e45a38c",
   "outputs": [],
   "execution_count": 60
  },
  {
   "metadata": {
    "ExecuteTime": {
     "end_time": "2024-12-29T16:03:43.692611Z",
     "start_time": "2024-12-29T16:03:43.685273Z"
    }
   },
   "cell_type": "code",
   "source": [
    "def find_possible_paths_simple(start, end, pad):\n",
    "    if (start, end) in simple_memo:\n",
    "        return simple_memo[(start, end)]\n",
    "    for y, row in enumerate(pad):\n",
    "        for x, elem in enumerate(row):\n",
    "            if elem == start:\n",
    "                start_pos = (y, x)\n",
    "            if elem == end:\n",
    "                end_pos = (y, x)\n",
    "    possible_paths = []\n",
    "    traverse(pad, start_pos, end_pos, possible_paths, [])\n",
    "    least_changes = 99999999999\n",
    "    paths_by_changes = {}\n",
    "    for path in possible_paths:\n",
    "        if len(path) == 1:\n",
    "            memo[(start, end)] = path\n",
    "            return path\n",
    "        else:\n",
    "            changes = 0\n",
    "            current = path[0]\n",
    "            for elem in path[1:]:\n",
    "                if elem != current:\n",
    "                    changes += 1\n",
    "                current = elem\n",
    "            if changes < least_changes:\n",
    "                least_changes = changes\n",
    "                paths_by_changes[least_changes] = path\n",
    "    simple_memo[(start, end)] = paths_by_changes[least_changes]\n",
    "    return paths_by_changes[least_changes]"
   ],
   "id": "6362cf94c862d9f0",
   "outputs": [],
   "execution_count": 61
  },
  {
   "metadata": {
    "ExecuteTime": {
     "end_time": "2024-12-29T16:03:43.747413Z",
     "start_time": "2024-12-29T16:03:43.740657Z"
    }
   },
   "cell_type": "code",
   "source": [
    "def traverse(pad, start_pos, end_pos, possible_paths, path=[]):\n",
    "    path.append(start_pos)\n",
    "    if start_pos == end_pos:\n",
    "        dir_path = []\n",
    "        for i, elem in enumerate(path):\n",
    "            if i == len(path) - 1:\n",
    "                dir_path.append('A')\n",
    "                break\n",
    "            dir = (path[i+1][0] - elem[0], path[i+1][1] - elem[1])\n",
    "            dir_path.append(directions[dir])\n",
    "        possible_paths.append(dir_path)\n",
    "        return\n",
    "    for dir in directions:\n",
    "        new_pos = (start_pos[0] + dir[0], start_pos[1] + dir[1])\n",
    "        if 0 <= new_pos[0] < len(pad) and 0 <= new_pos[1] < len(pad[0]) and pad[new_pos[0]][new_pos[1]] != 'X' and new_pos not in path:\n",
    "            traverse(pad, new_pos, end_pos, possible_paths, path[:])\n",
    "\n",
    "def find_possible_paths(start, end, pad):\n",
    "    if (start, end) in memo:\n",
    "        return memo[(start, end)]\n",
    "    for y, row in enumerate(pad):\n",
    "        for x, elem in enumerate(row):\n",
    "            if elem == start:\n",
    "                start_pos = (y, x)\n",
    "            if elem == end:\n",
    "                end_pos = (y, x)\n",
    "    possible_paths = []\n",
    "    traverse(pad, start_pos, end_pos, possible_paths, [])\n",
    "    least_changes = 99999999999\n",
    "    paths_by_changes = {}\n",
    "    for path in possible_paths:\n",
    "        if len(path) == 1:\n",
    "            memo[(start, end)] = [path]\n",
    "            return [path]\n",
    "        else:\n",
    "            changes = 0\n",
    "            current = path[0]\n",
    "            for elem in path[1:]:\n",
    "                if elem != current:\n",
    "                    changes += 1\n",
    "                current = elem\n",
    "            if changes <= least_changes:\n",
    "                least_changes = changes\n",
    "                if not least_changes in paths_by_changes:\n",
    "                    paths_by_changes[least_changes] = []\n",
    "                paths_by_changes[least_changes].append(path)\n",
    "    memo[(start, end)] = paths_by_changes[least_changes]\n",
    "    return paths_by_changes[least_changes]\n"
   ],
   "id": "7f438e568b6c43a6",
   "outputs": [],
   "execution_count": 62
  },
  {
   "metadata": {
    "ExecuteTime": {
     "end_time": "2024-12-29T16:03:43.801157Z",
     "start_time": "2024-12-29T16:03:43.797669Z"
    }
   },
   "cell_type": "code",
   "source": [
    "filename = 'input.txt'\n",
    "\n",
    "with open(filename) as f:\n",
    "    codes = [['A'] + list(line.strip()) for line in f.readlines()]\n",
    "codes"
   ],
   "id": "7814d5648ce7d9e0",
   "outputs": [
    {
     "data": {
      "text/plain": [
       "[['A', '1', '4', '0', 'A'],\n",
       " ['A', '1', '7', '0', 'A'],\n",
       " ['A', '1', '6', '9', 'A'],\n",
       " ['A', '8', '0', '3', 'A'],\n",
       " ['A', '1', '2', '9', 'A']]"
      ]
     },
     "execution_count": 63,
     "metadata": {},
     "output_type": "execute_result"
    }
   ],
   "execution_count": 63
  },
  {
   "metadata": {
    "ExecuteTime": {
     "end_time": "2024-12-29T16:03:43.856942Z",
     "start_time": "2024-12-29T16:03:43.851418Z"
    }
   },
   "cell_type": "code",
   "source": [
    "def shortest_array(arrays):\n",
    "    shortest_len = None\n",
    "    for arr in arrays:\n",
    "        if not shortest_len or len(arr) < shortest_len:\n",
    "            shortest_len = len(arr)\n",
    "    return shortest_len"
   ],
   "id": "5b4baa7c039b91bf",
   "outputs": [],
   "execution_count": 64
  },
  {
   "metadata": {
    "ExecuteTime": {
     "end_time": "2024-12-29T16:03:43.905624Z",
     "start_time": "2024-12-29T16:03:43.900475Z"
    }
   },
   "cell_type": "code",
   "source": [
    "def recursive_path_finder(start, end, depth, end_depth, first):\n",
    "    key = f'{start}-{end}-{depth}'\n",
    "    if key in memo_len and not first:\n",
    "        return memo_len[key]\n",
    "    if first:\n",
    "        path_starts = find_possible_paths('A', start, direction_pad)\n",
    "    possible_paths = find_possible_paths(start, end, direction_pad)\n",
    "\n",
    "    if first:\n",
    "        possible_total_paths = []\n",
    "        for path_start in path_starts:\n",
    "            for possible_path in possible_paths:\n",
    "                possible_total_paths.append(path_start[:]+possible_path[:])\n",
    "    else:\n",
    "        possible_total_paths = possible_paths\n",
    "\n",
    "    if depth == end_depth:\n",
    "        shortest_route_length = shortest_array(possible_total_paths)\n",
    "        if not first:\n",
    "            memo_len[key] = shortest_route_length\n",
    "        return shortest_route_length\n",
    "\n",
    "    shortest_length = None\n",
    "\n",
    "    for possible_path in possible_total_paths:\n",
    "\n",
    "        if len(possible_path) == 1 and possible_path[0] == 'A':\n",
    "            if not first:\n",
    "                memo_len[key] = 1\n",
    "            return 1\n",
    "\n",
    "        sum_length = 0\n",
    "        for i, elem in enumerate(possible_path):\n",
    "            if i == len(possible_path) - 1:\n",
    "                break\n",
    "            sum_length += recursive_path_finder(elem, possible_path[i + 1], depth + 1, end_depth, True if i == 0 else False)\n",
    "\n",
    "        if not shortest_length or sum_length < shortest_length:\n",
    "            shortest_length = sum_length\n",
    "\n",
    "\n",
    "    if not first:\n",
    "        memo_len[key] = shortest_length\n",
    "    return shortest_length"
   ],
   "id": "d2b0b48c331aacf1",
   "outputs": [],
   "execution_count": 65
  },
  {
   "metadata": {
    "ExecuteTime": {
     "end_time": "2024-12-29T16:04:09.254734Z",
     "start_time": "2024-12-29T16:03:43.952522Z"
    }
   },
   "cell_type": "code",
   "source": [
    "path = []\n",
    "\n",
    "memo_len = {}\n",
    "\n",
    "def possible_int(elem):\n",
    "    return int(elem) if elem != 'A' else elem\n",
    "\n",
    "index = 0\n",
    "optional_paths = {}\n",
    "for index in range(len(codes)):\n",
    "    path = []\n",
    "    for i, elem in enumerate(codes[index]):\n",
    "        if i == len(codes) - 1:\n",
    "            break\n",
    "        next_elem = codes[index][i + 1]\n",
    "        start = possible_int(elem)\n",
    "        end = possible_int(next_elem)\n",
    "        optional_paths[i] = find_possible_paths(start, end, number_pad)\n",
    "\n",
    "    paths = []\n",
    "\n",
    "    for i in optional_paths:\n",
    "        temp_paths = []\n",
    "        for arr in optional_paths[i]:\n",
    "            if len(paths) == 0:\n",
    "                temp_paths.append(arr)\n",
    "            else:\n",
    "                for path in paths:\n",
    "                    temp_paths.append(path[:] + arr[:])\n",
    "        paths = temp_paths\n",
    "\n",
    "    shortest_option_length = None\n",
    "    for path_alt in paths:\n",
    "        path_len = 0\n",
    "        for i, elem in enumerate(path_alt):\n",
    "            if i == len(path_alt) - 1:\n",
    "                break\n",
    "            path_len += recursive_path_finder(elem, path_alt[i+1], 1, 25, True if i == 0 else False)\n",
    "        if not shortest_option_length or path_len < shortest_option_length:\n",
    "            shortest_option_length = path_len\n",
    "    print(shortest_option_length)\n"
   ],
   "id": "a065f0baff5b3ca4",
   "outputs": [
    {
     "name": "stdout",
     "output_type": "stream",
     "text": [
      "87513499934\n",
      "87513499936\n",
      "91059074548\n",
      "93831469526\n",
      "90594397580\n"
     ]
    }
   ],
   "execution_count": 66
  },
  {
   "metadata": {
    "ExecuteTime": {
     "end_time": "2024-12-29T16:04:09.263144Z",
     "start_time": "2024-12-29T16:04:09.260601Z"
    }
   },
   "cell_type": "code",
   "source": "87513499934 * 140 + 87513499936*170 + 91059074548*169 + 93831469526*803 + 90594397580*129",
   "id": "a9c74aa31f778ade",
   "outputs": [
    {
     "data": {
      "text/plain": [
       "129551515895690"
      ]
     },
     "execution_count": 67,
     "metadata": {},
     "output_type": "execute_result"
    }
   ],
   "execution_count": 67
  }
 ],
 "metadata": {
  "kernelspec": {
   "name": "python3",
   "language": "python",
   "display_name": "Python 3 (ipykernel)"
  }
 },
 "nbformat": 5,
 "nbformat_minor": 9
}
