{
 "cells": [
  {
   "metadata": {
    "ExecuteTime": {
     "end_time": "2024-12-21T15:36:30.901411Z",
     "start_time": "2024-12-21T15:36:30.895393Z"
    }
   },
   "cell_type": "code",
   "source": [
    "import math\n",
    "import time\n",
    "\n",
    "registers = {'A': 23568504368859*4, 'B': 0, 'C': 0}\n",
    "\n",
    "\n",
    "output = []\n",
    "\n",
    "def combo(num: int):\n",
    "    if num <= 3:\n",
    "        return num\n",
    "    elif 3 < num < 7:\n",
    "        return registers[[\"A\", \"B\", \"C\"][num - 4]]\n",
    "    else:\n",
    "        raise Exception(\"Not a valid program.\")\n",
    "\n",
    "def adv(operand, store_in_reg='A'):\n",
    "    numerator = registers['A']\n",
    "    denominator = 2 ** combo(operand)\n",
    "    registers[store_in_reg] = math.floor(numerator / denominator)\n",
    "    return None\n",
    "\n",
    "def bxl(operand):\n",
    "    B = registers['B']\n",
    "    registers['B'] = B ^ operand\n",
    "    return None\n",
    "\n",
    "def bst(operand):\n",
    "    registers['B'] = combo(operand) % 8\n",
    "    return None\n",
    "\n",
    "def jnz(operand):\n",
    "    if registers['A'] == 0:\n",
    "        return None\n",
    "    else:\n",
    "        return operand\n",
    "\n",
    "def bxc(operand):\n",
    "    bitwise = registers['B'] ^ registers['C']\n",
    "    registers['B'] = bitwise\n",
    "    return None\n",
    "\n",
    "def out(operand):\n",
    "    global output\n",
    "    global program\n",
    "    output.append(combo(operand) % 8)\n",
    "    return None\n",
    "\n",
    "def bdv(operand):\n",
    "    adv(operand, 'B')\n",
    "    return None\n",
    "\n",
    "def cdv(operand):\n",
    "    adv(operand, 'C')\n",
    "    return None\n",
    "\n"
   ],
   "id": "d63dc3850db9a3c2",
   "outputs": [],
   "execution_count": 1
  },
  {
   "metadata": {
    "ExecuteTime": {
     "end_time": "2024-12-21T15:36:30.950315Z",
     "start_time": "2024-12-21T15:36:30.942256Z"
    }
   },
   "cell_type": "code",
   "source": "registers",
   "id": "437c7867178f664",
   "outputs": [
    {
     "data": {
      "text/plain": [
       "{'A': 94274017475436, 'B': 0, 'C': 0}"
      ]
     },
     "execution_count": 2,
     "metadata": {},
     "output_type": "execute_result"
    }
   ],
   "execution_count": 2
  },
  {
   "metadata": {
    "ExecuteTime": {
     "end_time": "2024-12-21T15:36:31.063044Z",
     "start_time": "2024-12-21T15:36:31.059289Z"
    }
   },
   "cell_type": "code",
   "source": "op_codes = [adv, bxl, bst, jnz, bxc, out, bdv, cdv]",
   "id": "5aa0ec604bccaeda",
   "outputs": [],
   "execution_count": 3
  },
  {
   "metadata": {
    "ExecuteTime": {
     "end_time": "2024-12-21T15:36:31.111004Z",
     "start_time": "2024-12-21T15:36:31.107799Z"
    }
   },
   "cell_type": "code",
   "source": "program = [2,4,1,5,7,5,1,6,0,3,4,2,5,5,3,0]",
   "id": "238d0410b810ed3c",
   "outputs": [],
   "execution_count": 4
  },
  {
   "metadata": {
    "ExecuteTime": {
     "end_time": "2024-12-21T15:36:31.165528Z",
     "start_time": "2024-12-21T15:36:31.161149Z"
    }
   },
   "cell_type": "code",
   "source": [
    "pointer = 0\n",
    "\n",
    "while True:\n",
    "    op = op_codes[program[pointer]]\n",
    "    operand = program[pointer + 1]\n",
    "    result = op(operand)\n",
    "    if result is not None:\n",
    "        pointer = result\n",
    "    else:\n",
    "        pointer += 2\n",
    "    if pointer > len(program) - 1:\n",
    "        print(\",\".join([str(x) for x in output]))\n",
    "        print(len(output) - len(program))\n",
    "        break\n",
    "\n",
    "registers"
   ],
   "id": "6aa99e23cc16b7d3",
   "outputs": [
    {
     "name": "stdout",
     "output_type": "stream",
     "text": [
      "1,3,3,3,4,3,5,7,4,1,1,6,5,2,3,1\n",
      "0\n"
     ]
    },
    {
     "data": {
      "text/plain": [
       "{'A': 0, 'B': 1, 'C': 0}"
      ]
     },
     "execution_count": 5,
     "metadata": {},
     "output_type": "execute_result"
    }
   ],
   "execution_count": 5
  }
 ],
 "metadata": {
  "kernelspec": {
   "name": "python3",
   "language": "python",
   "display_name": "Python 3 (ipykernel)"
  }
 },
 "nbformat": 5,
 "nbformat_minor": 9
}
