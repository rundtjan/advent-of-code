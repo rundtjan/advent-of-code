{
 "cells": [
  {
   "metadata": {
    "ExecuteTime": {
     "end_time": "2024-12-21T15:35:35.713333Z",
     "start_time": "2024-12-21T15:35:35.705Z"
    }
   },
   "cell_type": "code",
   "source": [
    "import math\n",
    "\n",
    "registers = {'A': 0, 'B': 0, 'C': 0}\n",
    "\n",
    "\n",
    "output = []\n",
    "\n",
    "def combo(num: int):\n",
    "    if num <= 3:\n",
    "        return num\n",
    "    elif 3 < num < 7:\n",
    "        return registers[[\"A\", \"B\", \"C\"][num - 4]]\n",
    "    else:\n",
    "        raise Exception(\"Not a valid program.\")\n",
    "\n",
    "def adv(operand, store_in_reg='A'):\n",
    "    numerator = registers['A']\n",
    "    denominator = 2 ** combo(operand)\n",
    "    registers[store_in_reg] = math.floor(numerator / denominator)\n",
    "    return None\n",
    "\n",
    "def bxl(operand):\n",
    "    B = registers['B']\n",
    "    registers['B'] = B ^ operand\n",
    "    return None\n",
    "\n",
    "def bst(operand):\n",
    "    registers['B'] = combo(operand) % 8\n",
    "    return None\n",
    "\n",
    "def jnz(operand):\n",
    "    if registers['A'] == 0:\n",
    "        return None\n",
    "    else:\n",
    "        return operand\n",
    "\n",
    "def bxc(operand):\n",
    "    bitwise = registers['B'] ^ registers['C']\n",
    "    registers['B'] = bitwise\n",
    "    return None\n",
    "\n",
    "def out(operand):\n",
    "    global output\n",
    "    global program\n",
    "    output.append(combo(operand) % 8)\n",
    "    return None\n",
    "\n",
    "def bdv(operand):\n",
    "    adv(operand, 'B')\n",
    "    return None\n",
    "\n",
    "def cdv(operand):\n",
    "    adv(operand, 'C')\n",
    "    return None\n",
    "\n"
   ],
   "id": "d63dc3850db9a3c2",
   "outputs": [],
   "execution_count": 43
  },
  {
   "metadata": {
    "ExecuteTime": {
     "end_time": "2024-12-21T15:35:35.763836Z",
     "start_time": "2024-12-21T15:35:35.759772Z"
    }
   },
   "cell_type": "code",
   "source": "registers",
   "id": "437c7867178f664",
   "outputs": [
    {
     "data": {
      "text/plain": [
       "{'A': 0, 'B': 0, 'C': 0}"
      ]
     },
     "execution_count": 44,
     "metadata": {},
     "output_type": "execute_result"
    }
   ],
   "execution_count": 44
  },
  {
   "metadata": {
    "ExecuteTime": {
     "end_time": "2024-12-21T15:35:35.814798Z",
     "start_time": "2024-12-21T15:35:35.811194Z"
    }
   },
   "cell_type": "code",
   "source": "op_codes = [adv, bxl, bst, jnz, bxc, out, bdv, cdv]",
   "id": "5aa0ec604bccaeda",
   "outputs": [],
   "execution_count": 45
  },
  {
   "metadata": {
    "ExecuteTime": {
     "end_time": "2024-12-21T15:35:35.867134Z",
     "start_time": "2024-12-21T15:35:35.861704Z"
    }
   },
   "cell_type": "code",
   "source": [
    "program = [2,4,1,5,7,5,1,6,0,3,4,2,5,5,3,0]\n",
    "\n",
    "# 1 B <- register A % 8\n",
    "# 2 B <- B xor 5\n",
    "# 3 C <- register A floor(A / 2 ** register B)\n",
    "# 4 B <- B xor 6\n",
    "# 5 A <- register A floor(A / 2 ** 3)\n",
    "# 6 B <- B xor C\n",
    "# 5 print(B % 8)"
   ],
   "id": "238d0410b810ed3c",
   "outputs": [],
   "execution_count": 46
  },
  {
   "metadata": {
    "ExecuteTime": {
     "end_time": "2024-12-21T15:35:35.989352Z",
     "start_time": "2024-12-21T15:35:35.912994Z"
    }
   },
   "cell_type": "code",
   "source": [
    "pointer = 0\n",
    "correct = program[:]\n",
    "correct.reverse()\n",
    "\n",
    "check_in_following = [0]\n",
    "\n",
    "for p_from_the_end_idx in range(0,16):\n",
    "    wanted_result = correct[p_from_the_end_idx]\n",
    "    check = check_in_following[:]\n",
    "    check_in_following = []\n",
    "    for ch in check:\n",
    "        # checking all those values that could have resulted in ch (floor(value / 8) = ch)\n",
    "        for i in range(ch * 8, (ch+1)*8):\n",
    "            registers = {'A': i, 'B': 0, 'C': 0}\n",
    "            pointer = 0\n",
    "            output = []\n",
    "            while True:\n",
    "                op = op_codes[program[pointer]]\n",
    "                operand = program[pointer + 1]\n",
    "                result = op(operand)\n",
    "                if result is not None and program[pointer] == 3:\n",
    "                    pointer = result\n",
    "                    result = None\n",
    "                    # break\n",
    "                else:\n",
    "                    pointer += 2\n",
    "                if pointer > len(program) - 1:\n",
    "                    if output[0] == wanted_result:\n",
    "                        check_in_following.append(i)\n",
    "                    break\n",
    "\n",
    "registers"
   ],
   "id": "6aa99e23cc16b7d3",
   "outputs": [
    {
     "data": {
      "text/plain": [
       "{'A': 0, 'B': 0, 'C': 0}"
      ]
     },
     "execution_count": 47,
     "metadata": {},
     "output_type": "execute_result"
    }
   ],
   "execution_count": 47
  },
  {
   "metadata": {
    "ExecuteTime": {
     "end_time": "2024-12-21T15:35:35.999681Z",
     "start_time": "2024-12-21T15:35:35.996644Z"
    }
   },
   "cell_type": "code",
   "source": [
    "check_in_following.sort()\n",
    "check_in_following[0]"
   ],
   "id": "1490d48a9089eb47",
   "outputs": [
    {
     "data": {
      "text/plain": [
       "106086382266778"
      ]
     },
     "execution_count": 48,
     "metadata": {},
     "output_type": "execute_result"
    }
   ],
   "execution_count": 48
  }
 ],
 "metadata": {
  "kernelspec": {
   "name": "python3",
   "language": "python",
   "display_name": "Python 3 (ipykernel)"
  }
 },
 "nbformat": 5,
 "nbformat_minor": 9
}
