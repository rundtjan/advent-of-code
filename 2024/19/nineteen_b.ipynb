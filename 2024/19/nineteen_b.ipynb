{
 "cells": [
  {
   "metadata": {
    "ExecuteTime": {
     "end_time": "2024-12-22T15:08:15.602738Z",
     "start_time": "2024-12-22T15:08:15.598244Z"
    }
   },
   "cell_type": "code",
   "source": [
    "from functools import cmp_to_key\n",
    "\n",
    "filename = 'input.txt'\n",
    "\n",
    "with open(filename) as f:\n",
    "    inputz = [line.strip() for line in f.readlines()]\n"
   ],
   "id": "d6eb63805367334e",
   "outputs": [],
   "execution_count": 13
  },
  {
   "metadata": {
    "ExecuteTime": {
     "end_time": "2024-12-22T15:08:15.651020Z",
     "start_time": "2024-12-22T15:08:15.645899Z"
    }
   },
   "cell_type": "code",
   "source": [
    "towels = [x.strip() for x in inputz[0].split(',')]\n",
    "designs = inputz[2:]\n",
    "\n",
    "def sort_by_length(item1, item2):\n",
    "    if len(item1) > len(item2):\n",
    "        return -1\n",
    "    elif len(item1) == len(item2):\n",
    "        return 0\n",
    "    else:\n",
    "        return 1\n",
    "\n",
    "towels = sorted(towels, key=cmp_to_key(sort_by_length))"
   ],
   "id": "d741ffd00ab5ef38",
   "outputs": [],
   "execution_count": 14
  },
  {
   "metadata": {
    "ExecuteTime": {
     "end_time": "2024-12-22T15:08:15.703698Z",
     "start_time": "2024-12-22T15:08:15.700574Z"
    }
   },
   "cell_type": "code",
   "source": "memo = {}",
   "id": "d18c3a721f169777",
   "outputs": [],
   "execution_count": 15
  },
  {
   "metadata": {
    "ExecuteTime": {
     "end_time": "2024-12-22T15:08:15.758562Z",
     "start_time": "2024-12-22T15:08:15.752472Z"
    }
   },
   "cell_type": "code",
   "source": [
    "def match_design(design):\n",
    "    if design in memo:\n",
    "        return memo[design]\n",
    "    else:\n",
    "        memo[design] = 0\n",
    "    success_count = 0\n",
    "    for towel in towels:\n",
    "        if len(towel) <= len(design) and towel == design[:len(towel)]:\n",
    "            if towel == design:\n",
    "                success_count += 1\n",
    "            else:\n",
    "                success_count += match_design(design[len(towel):])\n",
    "    memo[design] = success_count\n",
    "    return success_count"
   ],
   "id": "816cd08629243339",
   "outputs": [],
   "execution_count": 16
  },
  {
   "metadata": {
    "ExecuteTime": {
     "end_time": "2024-12-22T15:08:16.860912Z",
     "start_time": "2024-12-22T15:08:15.817769Z"
    }
   },
   "cell_type": "code",
   "source": [
    "can_do_versions = 0\n",
    "\n",
    "for i, design in enumerate(designs):\n",
    "    can_do_versions += match_design(design)"
   ],
   "id": "22cda6a46638db6f",
   "outputs": [],
   "execution_count": 17
  },
  {
   "metadata": {
    "ExecuteTime": {
     "end_time": "2024-12-22T15:08:16.874885Z",
     "start_time": "2024-12-22T15:08:16.868804Z"
    }
   },
   "cell_type": "code",
   "source": "can_do_versions",
   "id": "35ca6c66229e4c3",
   "outputs": [
    {
     "data": {
      "text/plain": [
       "880877787214477"
      ]
     },
     "execution_count": 18,
     "metadata": {},
     "output_type": "execute_result"
    }
   ],
   "execution_count": 18
  }
 ],
 "metadata": {
  "kernelspec": {
   "name": "python3",
   "language": "python",
   "display_name": "Python 3 (ipykernel)"
  }
 },
 "nbformat": 5,
 "nbformat_minor": 9
}
