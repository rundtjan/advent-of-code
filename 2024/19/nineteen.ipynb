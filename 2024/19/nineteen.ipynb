{
 "cells": [
  {
   "metadata": {
    "ExecuteTime": {
     "end_time": "2024-12-22T15:01:57.063335Z",
     "start_time": "2024-12-22T15:01:57.059424Z"
    }
   },
   "cell_type": "code",
   "source": [
    "from functools import cmp_to_key\n",
    "\n",
    "filename = 'input.txt'\n",
    "\n",
    "with open(filename) as f:\n",
    "    inputz = [line.strip() for line in f.readlines()]\n"
   ],
   "id": "d6eb63805367334e",
   "outputs": [],
   "execution_count": 104
  },
  {
   "metadata": {
    "ExecuteTime": {
     "end_time": "2024-12-22T15:01:57.070594Z",
     "start_time": "2024-12-22T15:01:57.066953Z"
    }
   },
   "cell_type": "code",
   "source": [
    "towels = [x.strip() for x in inputz[0].split(',')]\n",
    "designs = inputz[2:]\n",
    "\n",
    "def sort_by_length(item1, item2):\n",
    "    if len(item1) > len(item2):\n",
    "        return -1\n",
    "    elif len(item1) == len(item2):\n",
    "        return 0\n",
    "    else:\n",
    "        return 1\n",
    "\n",
    "towels = sorted(towels, key=cmp_to_key(sort_by_length))"
   ],
   "id": "d741ffd00ab5ef38",
   "outputs": [],
   "execution_count": 105
  },
  {
   "metadata": {
    "ExecuteTime": {
     "end_time": "2024-12-22T15:01:57.122744Z",
     "start_time": "2024-12-22T15:01:57.121137Z"
    }
   },
   "cell_type": "code",
   "source": "memo = {}",
   "id": "d18c3a721f169777",
   "outputs": [],
   "execution_count": 106
  },
  {
   "metadata": {
    "ExecuteTime": {
     "end_time": "2024-12-22T15:01:57.173998Z",
     "start_time": "2024-12-22T15:01:57.167419Z"
    }
   },
   "cell_type": "code",
   "source": [
    "def match_design(design):\n",
    "    global new_uns\n",
    "    if design in memo:\n",
    "        return memo[design]\n",
    "    else:\n",
    "        memo[design] = False\n",
    "    for towel in towels:\n",
    "        if len(towel) <= len(design) and towel == design[:len(towel)]:\n",
    "            if towel == design:\n",
    "                memo[design] = True\n",
    "                return True\n",
    "            else:\n",
    "                if match_design(design[len(towel):]):\n",
    "                    memo[design] = True\n",
    "                    return True\n",
    "    return False"
   ],
   "id": "816cd08629243339",
   "outputs": [],
   "execution_count": 107
  },
  {
   "metadata": {
    "ExecuteTime": {
     "end_time": "2024-12-22T15:01:57.540477Z",
     "start_time": "2024-12-22T15:01:57.224569Z"
    }
   },
   "cell_type": "code",
   "source": [
    "can_do = 0\n",
    "current = \"\"\n",
    "new_uns = []\n",
    "\n",
    "for i, design in enumerate(designs):\n",
    "    if match_design(design):\n",
    "        can_do += 1"
   ],
   "id": "22cda6a46638db6f",
   "outputs": [],
   "execution_count": 108
  },
  {
   "metadata": {
    "ExecuteTime": {
     "end_time": "2024-12-22T15:01:57.550558Z",
     "start_time": "2024-12-22T15:01:57.547309Z"
    }
   },
   "cell_type": "code",
   "source": "can_do",
   "id": "35ca6c66229e4c3",
   "outputs": [
    {
     "data": {
      "text/plain": [
       "353"
      ]
     },
     "execution_count": 109,
     "metadata": {},
     "output_type": "execute_result"
    }
   ],
   "execution_count": 109
  }
 ],
 "metadata": {
  "kernelspec": {
   "name": "python3",
   "language": "python",
   "display_name": "Python 3 (ipykernel)"
  }
 },
 "nbformat": 5,
 "nbformat_minor": 9
}
