{
 "cells": [
  {
   "cell_type": "code",
   "id": "initial_id",
   "metadata": {
    "collapsed": true
   },
   "source": [
    "file_name = 'ants.txt'\n",
    "\n",
    "with open(file_name) as f:\n",
    "    rows_raw = list(f.readlines())\n",
    "    rows = [x[:len(x)-1] for x in [list(x) for x in rows_raw]]\n",
    "\n",
    "rows"
   ],
   "outputs": [],
   "execution_count": null
  },
  {
   "metadata": {},
   "cell_type": "code",
   "source": [
    "ants = {}\n",
    "\n",
    "for y, row in enumerate(rows):\n",
    "    for x, elem in enumerate(row):\n",
    "        if elem != '.':\n",
    "            if elem not in ants:\n",
    "                ants[elem] = []\n",
    "            ants[elem].append((y,x))"
   ],
   "id": "751b9fb36536ea8c",
   "outputs": [],
   "execution_count": null
  },
  {
   "metadata": {},
   "cell_type": "code",
   "source": [
    "sweet_spots = set()\n",
    "\n",
    "def is_inside_map(pos):\n",
    "    if 0 <= pos[0] <= len(rows) - 1 and 0 <= pos[1] <= len(rows[0]) - 1:\n",
    "        return True\n",
    "    return False\n",
    "\n",
    "for key in ants:\n",
    "    freq_ants = ants[key]\n",
    "    for i, fa in enumerate(freq_ants):\n",
    "        for j, fa_2 in enumerate(freq_ants):\n",
    "            if i == j:\n",
    "                continue\n",
    "            potential_sp = (fa_2[0] + (fa_2[0] - fa[0]), fa_2[1] + (fa_2[1] - fa[1]))\n",
    "            if is_inside_map(potential_sp):\n",
    "                sweet_spots.add(potential_sp)\n",
    "\n",
    "        "
   ],
   "id": "cf461231bba7832a",
   "outputs": [],
   "execution_count": null
  },
  {
   "metadata": {},
   "cell_type": "code",
   "source": "len(sweet_spots)",
   "id": "9f575ff1ee4d50f8",
   "outputs": [],
   "execution_count": null
  },
  {
   "metadata": {},
   "cell_type": "code",
   "source": [
    "sweet_spots_2 = set()\n",
    "\n",
    "for key in ants:\n",
    "    freq_ants = ants[key]\n",
    "    for i, fa in enumerate(freq_ants):\n",
    "        for j, fa_2 in enumerate(freq_ants):\n",
    "            if i == j:\n",
    "                continue\n",
    "            dist = 0\n",
    "            while True:\n",
    "                potential_sp = (fa_2[0] + (fa_2[0] - fa[0]) * dist, fa_2[1] + (fa_2[1] - fa[1]) * dist)\n",
    "                print(potential_sp)\n",
    "                if is_inside_map(potential_sp):\n",
    "                    print(\"is inside map\")\n",
    "                    sweet_spots_2.add(potential_sp)\n",
    "                    dist += 1\n",
    "                else:\n",
    "                    print(\"not inside map, I will break\")\n",
    "                    break\n",
    "        "
   ],
   "id": "513f065347d6fd21",
   "outputs": [],
   "execution_count": null
  },
  {
   "metadata": {},
   "cell_type": "code",
   "source": "len(sweet_spots_2)",
   "id": "6e427caff8044529",
   "outputs": [],
   "execution_count": null
  }
 ],
 "metadata": {
  "kernelspec": {
   "display_name": "Python 3",
   "language": "python",
   "name": "python3"
  },
  "language_info": {
   "codemirror_mode": {
    "name": "ipython",
    "version": 2
   },
   "file_extension": ".py",
   "mimetype": "text/x-python",
   "name": "python",
   "nbconvert_exporter": "python",
   "pygments_lexer": "ipython2",
   "version": "2.7.6"
  }
 },
 "nbformat": 4,
 "nbformat_minor": 5
}
