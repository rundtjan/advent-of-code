{
 "cells": [
  {
   "metadata": {},
   "cell_type": "code",
   "source": [
    "from shapely import LineString, intersection\n",
    "from shapely import plotting"
   ],
   "id": "3b6460fcb74f6327",
   "outputs": [],
   "execution_count": null
  },
  {
   "metadata": {},
   "cell_type": "code",
   "source": [
    "filename = 'input.txt'\n",
    "\n",
    "with open(filename) as f:\n",
    "    rules = f.readlines()\n",
    "\n",
    "rules"
   ],
   "id": "17dd97bf507d630a",
   "outputs": [],
   "execution_count": null
  },
  {
   "metadata": {},
   "cell_type": "code",
   "source": [
    "    \n",
    "rules2 = []\n",
    "temp = []\n",
    "for rule in rules:\n",
    "    if rule == '\\n':\n",
    "        rules2.append(temp[:])\n",
    "        temp = []\n",
    "    else:\n",
    "        temp.append(rule)\n",
    "\n",
    "rules2"
   ],
   "id": "8e3266a13a770235",
   "outputs": [],
   "execution_count": null
  },
  {
   "metadata": {},
   "cell_type": "code",
   "source": [
    "import re\n",
    "\n",
    "rulez = []\n",
    "\n",
    "for rule in rules2:\n",
    "    A = rule[0].split(':')[1]\n",
    "    B = rule[1].split(':')[1]\n",
    "    Prize = rule[2].split(':')[1]\n",
    "    AXY = re.findall(r\"[\\d]+\", A)\n",
    "    BXY = re.findall(r\"[\\d]+\", B)\n",
    "    CXY = re.findall(r\"[\\d]+\", Prize)\n",
    "    rulez.append({'possible_positions': [(int(AXY[0]), int(AXY[1])), (int(BXY[0]), int(BXY[1]))],\n",
    "                  'Prize': (int(CXY[0]) + 10000000000000, int(CXY[1]) + 10000000000000)})\n",
    "\n",
    "rulez"
   ],
   "id": "f5e8b499f76db37a",
   "outputs": [],
   "execution_count": null
  },
  {
   "metadata": {},
   "cell_type": "code",
   "source": "import math",
   "id": "a9da71e75b91ee9c",
   "outputs": [],
   "execution_count": null
  },
  {
   "metadata": {},
   "cell_type": "code",
   "source": [
    "total_cost = 0\n",
    "\n",
    "for rule in rulez:\n",
    "    cost = 0\n",
    "    goal_x = rule.get('Prize')[0]\n",
    "    goal_y = rule.get('Prize')[1]\n",
    "    a_move = rule.get('possible_positions')[0]\n",
    "    a_line = LineString([(0,0), (a_move[0]*goal_x, a_move[1]*goal_x)])\n",
    "    b_move = rule.get('possible_positions')[1]\n",
    "    bx_start = goal_x - b_move[0] * goal_x\n",
    "    by_start = goal_y - b_move[1] * goal_x\n",
    "    b_line = LineString([(bx_start, by_start), (goal_x, goal_y)])\n",
    "    intersec = intersection(a_line, b_line)\n",
    "    if len(intersec.coords)== 0:\n",
    "        continue\n",
    "    amount_of_a = intersec.coords[0][0] / a_move[0]\n",
    "    # print(\"amount of a\", amount_of_a)\n",
    "    # print(math.ceil(amount_of_a) == amount_of_a)\n",
    "    # print(goal_x - intersec.coords[0][0])\n",
    "    amount_of_b = (goal_x - intersec.coords[0][0]) / b_move[0]\n",
    "    # print(\"amount of b\", amount_of_b)\n",
    "    if 0 < amount_of_a == math.ceil(amount_of_a) and 0 < amount_of_b == math.ceil(amount_of_b):\n",
    "        cost = amount_of_a * 3 + amount_of_b\n",
    "    print(cost)\n",
    "    total_cost += cost\n",
    "\n",
    "total_cost"
   ],
   "id": "fcf89640b00d95d9",
   "outputs": [],
   "execution_count": null
  },
  {
   "metadata": {},
   "cell_type": "code",
   "source": "",
   "id": "b0c76a18e0923b56",
   "outputs": [],
   "execution_count": null
  },
  {
   "metadata": {},
   "cell_type": "code",
   "source": [
    "plotting.plot_line(a_line)\n",
    "plotting.plot_line(b_line)"
   ],
   "id": "90d1dd9e9e63197b",
   "outputs": [],
   "execution_count": null
  }
 ],
 "metadata": {
  "kernelspec": {
   "display_name": "Python 3",
   "language": "python",
   "name": "python3"
  },
  "language_info": {
   "codemirror_mode": {
    "name": "ipython",
    "version": 2
   },
   "file_extension": ".py",
   "mimetype": "text/x-python",
   "name": "python",
   "nbconvert_exporter": "python",
   "pygments_lexer": "ipython2",
   "version": "2.7.6"
  }
 },
 "nbformat": 4,
 "nbformat_minor": 5
}
