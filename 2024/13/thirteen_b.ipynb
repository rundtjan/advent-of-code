{
 "cells": [
  {
   "metadata": {},
   "cell_type": "code",
   "source": [
    "filename = 'input.txt'\n",
    "\n",
    "with open(filename) as f:\n",
    "    rules = f.readlines()\n",
    "    \n",
    "rules"
   ],
   "id": "17dd97bf507d630a",
   "outputs": [],
   "execution_count": null
  },
  {
   "metadata": {},
   "cell_type": "code",
   "source": [
    "    \n",
    "rules2 = []\n",
    "temp = []\n",
    "for rule in rules:\n",
    "    if rule == '\\n':\n",
    "        rules2.append(temp[:])\n",
    "        temp = []\n",
    "    else:\n",
    "        temp.append(rule)\n",
    "\n",
    "rules2"
   ],
   "id": "8e3266a13a770235",
   "outputs": [],
   "execution_count": null
  },
  {
   "metadata": {},
   "cell_type": "code",
   "source": [
    "import re\n",
    "\n",
    "rulez = []\n",
    "\n",
    "for rule in rules2:\n",
    "    A = rule[0].split(':')[1]\n",
    "    B = rule[1].split(':')[1]\n",
    "    Prize = rule[2].split(':')[1]\n",
    "    AXY = re.findall(r\"[\\d]+\", A)\n",
    "    BXY = re.findall(r\"[\\d]+\", B)\n",
    "    CXY = re.findall(r\"[\\d]+\", Prize)\n",
    "    rulez.append({'possible_positions': [(int(AXY[0]), int(AXY[1])), (int(BXY[0]), int(BXY[1]))], 'Prize': (int(CXY[0]), int(CXY[1]))})\n",
    "\n",
    "rulez"
   ],
   "id": "f5e8b499f76db37a",
   "outputs": [],
   "execution_count": null
  },
  {
   "metadata": {},
   "cell_type": "code",
   "source": [
    "cost = 0\n",
    "\n",
    "\n",
    "for rule in rulez:\n",
    "\n",
    "    a_line = {}\n",
    "    b_line = {}\n",
    "\n",
    "    A = rule.get('possible_positions')[0]\n",
    "    B = rule.get('possible_positions')[1]\n",
    "\n",
    "    goal = rule.get('Prize')\n",
    "\n",
    "    for i in range(1,101):\n",
    "        position = [0 + A[0]*i,0 + A[1]*i]\n",
    "        a_line[f\"{position[0]}-{position[1]}\"] = i\n",
    "        position2 = [goal[0] - i * B[0], goal[1] - i * B[1]]\n",
    "        b_line[f\"{position2[0]}-{position2[1]}\"] = i\n",
    "\n",
    "    for a in a_line:\n",
    "        if a in b_line:\n",
    "            print(\"match\", b_line[a], a_line[a])\n",
    "            cost += a_line[a] * 3 + b_line[a] * 1\n",
    "\n",
    "cost\n"
   ],
   "id": "1e13bb038cbbd47d",
   "outputs": [],
   "execution_count": null
  },
  {
   "metadata": {},
   "cell_type": "code",
   "source": "",
   "id": "ba37f6cb9801c2c1",
   "outputs": [],
   "execution_count": null
  }
 ],
 "metadata": {
  "kernelspec": {
   "display_name": "Python 3",
   "language": "python",
   "name": "python3"
  },
  "language_info": {
   "codemirror_mode": {
    "name": "ipython",
    "version": 2
   },
   "file_extension": ".py",
   "mimetype": "text/x-python",
   "name": "python",
   "nbconvert_exporter": "python",
   "pygments_lexer": "ipython2",
   "version": "2.7.6"
  }
 },
 "nbformat": 4,
 "nbformat_minor": 5
}
