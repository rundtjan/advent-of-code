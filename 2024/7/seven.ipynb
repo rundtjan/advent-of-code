{
 "cells": [
  {
   "cell_type": "code",
   "id": "initial_id",
   "metadata": {
    "collapsed": true
   },
   "source": [
    "file_name = 'small_one.txt'\n",
    "\n",
    "with open(file_name) as f:\n",
    "    rows_raw = list(f.readlines())\n",
    "    rows = [x.split(\" \") for x in rows_raw]\n",
    "\n",
    "rows"
   ],
   "outputs": [],
   "execution_count": null
  },
  {
   "metadata": {},
   "cell_type": "code",
   "source": [
    "for num in range(36):\n",
    "    print(bin(num).split('0b')[1].zfill(8))"
   ],
   "id": "90e22aced78bf840",
   "outputs": [],
   "execution_count": null
  },
  {
   "metadata": {},
   "cell_type": "code",
   "source": [
    "file_name = 'big_one.txt'\n",
    "\n",
    "with open(file_name) as f:\n",
    "    rows_raw = list(f.readlines())\n",
    "    rows = [x.split(\" \") for x in rows_raw]\n",
    "\n",
    "rows"
   ],
   "id": "8a6cb4f2525a6181",
   "outputs": [],
   "execution_count": null
  },
  {
   "metadata": {},
   "cell_type": "code",
   "source": [
    "variations = []\n",
    "\n",
    "for num in range(2048):\n",
    "    variations.append(bin(num).split('0b')[1].zfill(11))\n",
    "    \n",
    "variations[0:5]"
   ],
   "id": "7ad86bfdc4dba3be",
   "outputs": [],
   "execution_count": null
  },
  {
   "metadata": {},
   "cell_type": "code",
   "source": [
    "total_sum = 0\n",
    "how_many = 0\n",
    "already_solved = set()\n",
    "\n",
    "for r, row in enumerate(rows):\n",
    "    calc_nums = [int(x.split('\\n')[0]) if '\\n' in x else int(x) for x in row[1:]]\n",
    "    for var in variations:\n",
    "        ops = list(var)\n",
    "        result = 0\n",
    "        for i, num in enumerate(calc_nums):\n",
    "            if i == 0:\n",
    "                result += num\n",
    "                continue\n",
    "            if ops[i-1] == '0':\n",
    "                result += num\n",
    "            else:\n",
    "                result *= num\n",
    "        if int(row[0].split(':')[0]) == result:\n",
    "            total_sum += result\n",
    "            how_many += 1\n",
    "            already_solved.add(r)\n",
    "            break\n",
    "            "
   ],
   "id": "7f84899876a7372",
   "outputs": [],
   "execution_count": null
  },
  {
   "metadata": {},
   "cell_type": "code",
   "source": "total_sum",
   "id": "e4c3462cd2fa0938",
   "outputs": [],
   "execution_count": null
  },
  {
   "metadata": {},
   "cell_type": "code",
   "source": "how_many",
   "id": "3179153ee04497c1",
   "outputs": [],
   "execution_count": null
  },
  {
   "metadata": {},
   "cell_type": "code",
   "source": "len(already_solved)",
   "id": "57430e9b1d7c6472",
   "outputs": [],
   "execution_count": null
  },
  {
   "metadata": {},
   "cell_type": "code",
   "source": [
    "base_arr = ['0', '1', '2']\n",
    "\n",
    "while True:\n",
    "    temp_arr = []\n",
    "    for i in range(3):\n",
    "        for elem in base_arr:\n",
    "            temp_arr.append(str(elem) + str(i))\n",
    "    base_arr = temp_arr[:]\n",
    "    if len(base_arr[0]) == 11:\n",
    "        break\n",
    "\n",
    "print(base_arr)"
   ],
   "id": "c7a77607f203862",
   "outputs": [],
   "execution_count": null
  },
  {
   "metadata": {},
   "cell_type": "code",
   "source": [
    "total_sum_2 = 0\n",
    "\n",
    "for r, row in enumerate(rows):\n",
    "    if r in already_solved:\n",
    "        continue\n",
    "    calc_nums = [int(x.split('\\n')[0]) if '\\n' in x else int(x) for x in row[1:]]\n",
    "    row_result = int(row[0].split(':')[0])\n",
    "    for var in base_arr:\n",
    "        ops = list(var)\n",
    "        result = 0\n",
    "        for i, num in enumerate(calc_nums):\n",
    "            if i == 0:\n",
    "                result += num\n",
    "                continue\n",
    "            if ops[i-1] == '0':\n",
    "                result += num\n",
    "            elif ops[i-1] == '1':\n",
    "                result *= num\n",
    "            else:\n",
    "                result = int(str(result) + str(num))\n",
    "            if result > row_result:\n",
    "                break\n",
    "        if row_result == result:\n",
    "            total_sum_2 += result\n",
    "            break\n",
    "            \n",
    "total_sum_2"
   ],
   "id": "c657f7a812bb0794",
   "outputs": [],
   "execution_count": null
  },
  {
   "metadata": {},
   "cell_type": "code",
   "source": "total_sum",
   "id": "84889925813f4d3d",
   "outputs": [],
   "execution_count": null
  }
 ],
 "metadata": {
  "kernelspec": {
   "display_name": "Python 3",
   "language": "python",
   "name": "python3"
  },
  "language_info": {
   "codemirror_mode": {
    "name": "ipython",
    "version": 2
   },
   "file_extension": ".py",
   "mimetype": "text/x-python",
   "name": "python",
   "nbconvert_exporter": "python",
   "pygments_lexer": "ipython2",
   "version": "2.7.6"
  }
 },
 "nbformat": 4,
 "nbformat_minor": 5
}
