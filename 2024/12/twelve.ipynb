{
 "cells": [
  {
   "cell_type": "code",
   "id": "initial_id",
   "metadata": {
    "collapsed": true,
    "ExecuteTime": {
     "end_time": "2024-12-12T18:46:01.384933Z",
     "start_time": "2024-12-12T18:46:01.380587Z"
    }
   },
   "source": [
    "filename = 'input.txt'\n",
    "\n",
    "with open(filename) as f:\n",
    "    field = f.readlines()\n",
    "    field = [list(x) for x in field]\n",
    "    field = [x[:len(x)-1] for x in field]\n",
    "    "
   ],
   "outputs": [],
   "execution_count": 127
  },
  {
   "metadata": {
    "ExecuteTime": {
     "end_time": "2024-12-12T18:46:01.400139Z",
     "start_time": "2024-12-12T18:46:01.397243Z"
    }
   },
   "cell_type": "code",
   "source": "labels = [[None for _ in field[0]] for _ in field]",
   "id": "a9d1c2dba27c92a1",
   "outputs": [],
   "execution_count": 128
  },
  {
   "metadata": {
    "ExecuteTime": {
     "end_time": "2024-12-12T18:46:01.451453Z",
     "start_time": "2024-12-12T18:46:01.444667Z"
    }
   },
   "cell_type": "code",
   "source": [
    "count_and_walls = {}\n",
    "\n",
    "def is_on_map(y, x):\n",
    "    if 0 <= y <= len(field) - 1 and 0 <= x <= len(field[0]) - 1:\n",
    "        return True\n",
    "    return False\n",
    "\n",
    "def traverse(param_y, param_x, label):\n",
    "    if label not in count_and_walls:\n",
    "        count_and_walls[label] = [0,0]\n",
    "    count_and_walls[label][0] = 1\n",
    "    stackish = []\n",
    "    stackish.append((param_y, param_x))\n",
    "    while len(stackish) > 0:\n",
    "        of_interest = stackish.pop()\n",
    "        y, x = of_interest\n",
    "        wall_count = 0\n",
    "        for py in [-1, 1]:\n",
    "            if is_on_map(y + py, x) and field[y + py][x] == field[y][x] and not labels[y + py][x]:\n",
    "                labels[y + py][x] = label\n",
    "                count_and_walls[label][0] += 1\n",
    "                stackish.append((y + py, x))\n",
    "            elif is_on_map(y + py, x) and field[y + py][x] != field[y][x] or not is_on_map(y + py, x):\n",
    "                wall_count += 1\n",
    "        for px in [-1, 1]:\n",
    "            if is_on_map(y, x + px) and field[y][x + px] == field[y][x] and not labels[y][x + px]:\n",
    "                labels[y][x + px] = label\n",
    "                count_and_walls[label][0] += 1\n",
    "                stackish.append((y, x + px))\n",
    "            elif is_on_map(y, x + px) and field[y][x + px] != field[y][x] or not is_on_map(y, x + px):\n",
    "                wall_count += 1\n",
    "        count_and_walls[label][1] += wall_count\n",
    "        # print('-------------------------------')\n",
    "        # for lrow in labels:\n",
    "            # print(lrow)\n",
    "\n",
    "        "
   ],
   "id": "5479997556319e4c",
   "outputs": [],
   "execution_count": 129
  },
  {
   "metadata": {
    "ExecuteTime": {
     "end_time": "2024-12-12T18:46:01.520129Z",
     "start_time": "2024-12-12T18:46:01.493563Z"
    }
   },
   "cell_type": "code",
   "source": [
    "label = 1\n",
    "for m_y, row in enumerate(field):\n",
    "    for m_x, elem in enumerate(row):\n",
    "        if not labels[m_y][m_x]:\n",
    "            labels[m_y][m_x] = label\n",
    "            traverse(m_y, m_x, label)\n",
    "            label += 1"
   ],
   "id": "e9450e2172952682",
   "outputs": [],
   "execution_count": 130
  },
  {
   "metadata": {
    "ExecuteTime": {
     "end_time": "2024-12-12T18:46:01.556971Z",
     "start_time": "2024-12-12T18:46:01.550494Z"
    }
   },
   "cell_type": "code",
   "source": [
    "price = 0\n",
    "for elem in count_and_walls:\n",
    "    price += count_and_walls[elem][0] * count_and_walls[elem][1]\n",
    "\n",
    "price"
   ],
   "id": "d28c4b8aaf42cacc",
   "outputs": [
    {
     "data": {
      "text/plain": [
       "1533024"
      ]
     },
     "execution_count": 131,
     "metadata": {},
     "output_type": "execute_result"
    }
   ],
   "execution_count": 131
  },
  {
   "metadata": {
    "ExecuteTime": {
     "end_time": "2024-12-12T18:46:01.639052Z",
     "start_time": "2024-12-12T18:46:01.607598Z"
    }
   },
   "cell_type": "code",
   "source": [
    "corner_count = {}\n",
    "\n",
    "def count_corners(y, x, elem):\n",
    "    corners = 0\n",
    "    for yp in [-1, 1]:\n",
    "        if not is_on_map(y + yp, x) or labels[y + yp][x] != elem:\n",
    "            for xp in [-1, 1]:\n",
    "                if not is_on_map(y, x + xp) or labels[y][x + xp] != elem:\n",
    "                    corners += 1\n",
    "    return corners\n",
    "\n",
    "def count_inverted_corners(y, x, elem):\n",
    "    corners = 0\n",
    "    for yp in [-1, 1]:\n",
    "        if is_on_map(y + yp, x) and labels[y + yp][x] == elem:\n",
    "            for xp in [-1, 1]:\n",
    "                if is_on_map(y, x + xp) and labels[y][x + xp] == elem:\n",
    "                    if labels[y + yp][x + xp] != elem:\n",
    "                        corners += 1\n",
    "    return corners\n",
    "            \n",
    "\n",
    "for y, row in enumerate(labels):\n",
    "    for x, elem in enumerate(row):\n",
    "        if elem not in corner_count:\n",
    "            corner_count[elem] = 0\n",
    "        corner_count[elem] += count_corners(y, x, elem)\n",
    "        corner_count[elem] += count_inverted_corners(y, x, elem)"
   ],
   "id": "9669539d649285a9",
   "outputs": [],
   "execution_count": 132
  },
  {
   "metadata": {
    "ExecuteTime": {
     "end_time": "2024-12-12T18:46:01.661587Z",
     "start_time": "2024-12-12T18:46:01.658125Z"
    }
   },
   "cell_type": "code",
   "source": [
    "price = 0\n",
    "for elem in count_and_walls:\n",
    "    price += count_and_walls[elem][0] * corner_count[elem]\n",
    "price"
   ],
   "id": "397bd0a362835f76",
   "outputs": [
    {
     "data": {
      "text/plain": [
       "910066"
      ]
     },
     "execution_count": 133,
     "metadata": {},
     "output_type": "execute_result"
    }
   ],
   "execution_count": 133
  }
 ],
 "metadata": {
  "kernelspec": {
   "display_name": "Python 3",
   "language": "python",
   "name": "python3"
  },
  "language_info": {
   "codemirror_mode": {
    "name": "ipython",
    "version": 2
   },
   "file_extension": ".py",
   "mimetype": "text/x-python",
   "name": "python",
   "nbconvert_exporter": "python",
   "pygments_lexer": "ipython2",
   "version": "2.7.6"
  }
 },
 "nbformat": 4,
 "nbformat_minor": 5
}
