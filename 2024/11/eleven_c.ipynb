{
 "cells": [
  {
   "cell_type": "code",
   "id": "initial_id",
   "metadata": {
    "collapsed": true,
    "ExecuteTime": {
     "end_time": "2024-12-11T15:55:22.911031Z",
     "start_time": "2024-12-11T15:55:22.905337Z"
    }
   },
   "source": [
    "filename = 'input.txt'\n",
    "\n",
    "with open(filename) as f:\n",
    "    stones = f.readlines()\n",
    "    stones = stones[0].split(' ')\n",
    "    stones = [x.split('\\n')[0] if '\\n' in x else x for x in stones] \n",
    "    stones = [int(x) for x in stones]\n",
    "    \n",
    "stones\n",
    "    "
   ],
   "outputs": [
    {
     "data": {
      "text/plain": [
       "[5910927, 0, 1, 47, 261223, 94788, 545, 7771]"
      ]
     },
     "execution_count": 2,
     "metadata": {},
     "output_type": "execute_result"
    }
   ],
   "execution_count": 2
  },
  {
   "metadata": {
    "ExecuteTime": {
     "end_time": "2024-12-11T16:00:43.055420Z",
     "start_time": "2024-12-11T16:00:43.052188Z"
    }
   },
   "cell_type": "code",
   "source": "memo = {}",
   "id": "855c9c3d3cf0db08",
   "outputs": [],
   "execution_count": 10
  },
  {
   "metadata": {
    "ExecuteTime": {
     "end_time": "2024-12-11T16:00:44.282451Z",
     "start_time": "2024-12-11T16:00:44.277628Z"
    }
   },
   "cell_type": "code",
   "source": [
    "def evolve(number, level, stop_level):\n",
    "    memo_key = f\"{number}-{level}\"\n",
    "    if memo_key in memo:\n",
    "        return memo[memo_key]\n",
    "    if level == stop_level:\n",
    "        return 1\n",
    "    elif number == 0:\n",
    "        result = evolve(1, level+1, stop_level)\n",
    "        memo[memo_key] = result\n",
    "        return result\n",
    "    elif len(str(number)) % 2 == 0:\n",
    "        num_list = list(str(number))\n",
    "        stop = int(len(num_list)/2)\n",
    "        first_half = num_list[:stop]\n",
    "        second_half = num_list[stop:]\n",
    "        result = evolve(int(\"\".join(first_half)), level+1, stop_level) + evolve(int(\"\".join(second_half)), level+1, stop_level)\n",
    "        memo[memo_key] = result\n",
    "        return result\n",
    "    else:\n",
    "        result = evolve(number * 2024, level + 1, stop_level)\n",
    "        memo[memo_key] = result\n",
    "        return result "
   ],
   "id": "dee1b39ab6af3db0",
   "outputs": [],
   "execution_count": 11
  },
  {
   "metadata": {
    "ExecuteTime": {
     "end_time": "2024-12-11T16:00:46.343477Z",
     "start_time": "2024-12-11T16:00:46.115740Z"
    }
   },
   "cell_type": "code",
   "source": [
    "total = 0    \n",
    "master_dict = {}\n",
    "\n",
    "for num in stones:\n",
    "    total += evolve(num, 0, 75)\n",
    "\n",
    "total"
   ],
   "id": "cbf2ea6f27a9f2e9",
   "outputs": [
    {
     "data": {
      "text/plain": [
       "229557103025807"
      ]
     },
     "execution_count": 12,
     "metadata": {},
     "output_type": "execute_result"
    }
   ],
   "execution_count": 12
  }
 ],
 "metadata": {
  "kernelspec": {
   "display_name": "Python 3",
   "language": "python",
   "name": "python3"
  },
  "language_info": {
   "codemirror_mode": {
    "name": "ipython",
    "version": 2
   },
   "file_extension": ".py",
   "mimetype": "text/x-python",
   "name": "python",
   "nbconvert_exporter": "python",
   "pygments_lexer": "ipython2",
   "version": "2.7.6"
  }
 },
 "nbformat": 4,
 "nbformat_minor": 5
}
