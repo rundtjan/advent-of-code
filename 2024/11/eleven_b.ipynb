{
 "cells": [
  {
   "cell_type": "code",
   "id": "initial_id",
   "metadata": {
    "collapsed": true
   },
   "source": [
    "filename = 'input.txt'\n",
    "\n",
    "with open(filename) as f:\n",
    "    stones = f.readlines()\n",
    "    stones = stones[0].split(' ')\n",
    "    stones = [x.split('\\n')[0] if '\\n' in x else x for x in stones] \n",
    "    stones = [int(x) for x in stones]\n",
    "    \n",
    "stones\n",
    "    "
   ],
   "outputs": [],
   "execution_count": null
  },
  {
   "metadata": {},
   "cell_type": "code",
   "source": [
    "def evolve(number, level, stop_level):\n",
    "    if level == stop_level:\n",
    "        return 1, {number: 1}\n",
    "    elif number == 0:\n",
    "        return evolve(1, level+1, stop_level)\n",
    "    elif len(str(number)) % 2 == 0:\n",
    "        num_list = list(str(number))\n",
    "        stop = int(len(num_list)/2)\n",
    "        first_half = num_list[:stop]\n",
    "        second_half = num_list[stop:]\n",
    "        amount_from_first, first_dict = evolve(int(\"\".join(first_half)), level+1, stop_level) \n",
    "        amount_from_second, second_dict = evolve(int(\"\".join(second_half)), level+1, stop_level)\n",
    "        for key in first_dict:\n",
    "            if not key in second_dict:\n",
    "                second_dict[key] = 0\n",
    "            second_dict[key] = second_dict[key] + first_dict[key]\n",
    "        return (amount_from_first + amount_from_second), second_dict\n",
    "    else:\n",
    "        return evolve(number * 2024, level + 1, stop_level)"
   ],
   "id": "dee1b39ab6af3db0",
   "outputs": [],
   "execution_count": null
  },
  {
   "metadata": {},
   "cell_type": "code",
   "source": [
    "total = 0    \n",
    "master_dict = {}\n",
    "\n",
    "for num in stones:\n",
    "    this_total, this_dict = evolve(num, 0, 25)\n",
    "    total += this_total\n",
    "    for key in this_dict:\n",
    "        if key not in master_dict:\n",
    "            master_dict[key] = 0\n",
    "        master_dict[key] = master_dict[key] + this_dict[key]\n",
    "\n",
    "total"
   ],
   "id": "cbf2ea6f27a9f2e9",
   "outputs": [],
   "execution_count": null
  },
  {
   "metadata": {},
   "cell_type": "code",
   "source": [
    "total_2 = 0    \n",
    "master_dict_2 = {}\n",
    "\n",
    "for master_key in master_dict:\n",
    "    this_total, this_dict = evolve(master_key, 0, 25)\n",
    "    total_2 += this_total * master_dict[master_key]\n",
    "    for key in this_dict:\n",
    "        if key not in master_dict_2:\n",
    "            master_dict_2[key] = 0\n",
    "        master_dict_2[key] = master_dict_2[key] + this_dict[key] * master_dict[master_key]\n",
    "\n",
    "total_2"
   ],
   "id": "13955b3224ce42b3",
   "outputs": [],
   "execution_count": null
  },
  {
   "metadata": {},
   "cell_type": "code",
   "source": "master_dict_2",
   "id": "d14d443eb88f9479",
   "outputs": [],
   "execution_count": null
  },
  {
   "metadata": {},
   "cell_type": "code",
   "source": [
    "total_3 = 0    \n",
    "master_dict_3 = {}\n",
    "\n",
    "for master_key in master_dict_2:\n",
    "    this_total, this_dict = evolve(master_key, 0, 25)\n",
    "    total_3 += this_total * master_dict_2[master_key]\n",
    "    for key in this_dict:\n",
    "        if key not in master_dict_3:\n",
    "            master_dict_3[key] = 0\n",
    "        master_dict_3[key] = master_dict_3[key] + this_dict[key] * master_dict_2[master_key]\n",
    "\n",
    "total_3"
   ],
   "id": "abe36a2a1b13e411",
   "outputs": [],
   "execution_count": null
  },
  {
   "metadata": {},
   "cell_type": "code",
   "source": [
    "def thread_evolve(num, lev, stop_lev, q):\n",
    "    def evolve(number, level, stop_level):\n",
    "        if level == stop_level:\n",
    "            return 1, {number: 1}\n",
    "        elif number == 0:\n",
    "            return evolve(1, level+1, stop_level)\n",
    "        elif len(str(number)) % 2 == 0:\n",
    "            num_list = list(str(number))\n",
    "            stop = int(len(num_list)/2)\n",
    "            first_half = num_list[:stop]\n",
    "            second_half = num_list[stop:]\n",
    "            amount_from_first, first_dict = evolve(int(\"\".join(first_half)), level+1, stop_level) \n",
    "            amount_from_second, second_dict = evolve(int(\"\".join(second_half)), level+1, stop_level)\n",
    "            for key in first_dict:\n",
    "                if not key in second_dict:\n",
    "                    second_dict[key] = 0\n",
    "                second_dict[key] = second_dict[key] + first_dict[key]\n",
    "            return (amount_from_first + amount_from_second), second_dict\n",
    "        else:\n",
    "            return evolve(number * 2024, level + 1, stop_level)\n",
    "        \n",
    "    result_sum, _ = evolve(num, lev, stop_lev)\n",
    "    q.put(result_sum)"
   ],
   "id": "a507f50511dfe20d",
   "outputs": [],
   "execution_count": null
  },
  {
   "metadata": {},
   "cell_type": "code",
   "source": [
    "import queue\n",
    "from threading import Thread\n",
    "\n",
    "total_3 = 0    \n",
    "master_dict_3 = {}\n",
    "\n",
    "q = queue.Queue()\n",
    "threads = []\n",
    "\n",
    "for master_key in master_dict_2:\n",
    "    t = Thread(target=thread_evolve, args=(master_key, 0, 25, q))\n",
    "    t.start()\n",
    "    threads.append(t)\n",
    "\n",
    "for t in threads:\n",
    "    t.join()\n",
    "\n",
    "[q.get() for _ in range(len(q))]"
   ],
   "id": "8d0dafc0eb9484fe",
   "outputs": [],
   "execution_count": null
  }
 ],
 "metadata": {
  "kernelspec": {
   "display_name": "Python 3",
   "language": "python",
   "name": "python3"
  },
  "language_info": {
   "codemirror_mode": {
    "name": "ipython",
    "version": 2
   },
   "file_extension": ".py",
   "mimetype": "text/x-python",
   "name": "python",
   "nbconvert_exporter": "python",
   "pygments_lexer": "ipython2",
   "version": "2.7.6"
  }
 },
 "nbformat": 4,
 "nbformat_minor": 5
}
