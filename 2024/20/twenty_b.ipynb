{
 "cells": [
  {
   "metadata": {
    "ExecuteTime": {
     "end_time": "2024-12-24T11:42:58.057880Z",
     "start_time": "2024-12-24T11:42:58.050435Z"
    }
   },
   "cell_type": "code",
   "source": [
    "filename = 'input.txt'\n",
    "\n",
    "with open(filename) as f:\n",
    "    maze = [list(line.strip()) for line in f.readlines()]\n",
    "\n",
    "start = [0,0]\n",
    "end = [0,0]\n",
    "\n",
    "for y, row in enumerate(maze):\n",
    "    for x, elem in enumerate(row):\n",
    "        if elem == 'E':\n",
    "            end = [y, x]\n",
    "        elif elem == 'S':\n",
    "            start = [y, x]"
   ],
   "id": "b786d9ea65a7cba6",
   "outputs": [],
   "execution_count": 210
  },
  {
   "metadata": {
    "ExecuteTime": {
     "end_time": "2024-12-24T11:42:58.081998Z",
     "start_time": "2024-12-24T11:42:58.063210Z"
    }
   },
   "cell_type": "code",
   "source": [
    "# Define the Cell class\n",
    "\n",
    "class Cell:\n",
    "    def __init__(self):\n",
    "      # Parent cell's row index\n",
    "        self.parent_i = 0\n",
    "    # Parent cell's column index\n",
    "        self.parent_j = 0\n",
    " # Total cost of the cell (g + h)\n",
    "        self.f = float('inf')\n",
    "    # Cost from start to this cell\n",
    "        self.g = float('inf')\n",
    "    # Heuristic cost from this cell to destination\n",
    "        self.h = 0\n",
    "    # distance to goal if found\n",
    "        self.dist_to_goal = None\n",
    "\n",
    "    def __str__(self):\n",
    "        if self.dist_to_goal is not None:\n",
    "            return str(self.dist_to_goal)\n",
    "        elif self.f != float('inf'):\n",
    "            return 'X'\n",
    "        else:\n",
    "            return \".\"\n",
    "\n",
    "\n",
    "# Define the size of the grid\n",
    "ROW = len(maze)\n",
    "COL = len(maze[0])\n",
    "\n",
    "directions = [(0, 1), (0, -1), (1, 0), (-1, 0)]\n",
    "\n",
    "memo_cells = cell_details = [[Cell() for _ in range(COL)] for _ in range(ROW)]\n",
    "\n",
    "# Adapted a bfs to traverse all cells and remember their distance from goal, the bfs I got from here https://medium.com/@luthfisauqi17_68455/artificial-intelligence-search-problem-solve-maze-using-breadth-first-search-bfs-algorithm-255139c6e1a3\n",
    "def bfs(start_node):\n",
    "\n",
    "    memo_cells[start_node[0]][start_node[1]].dist_to_goal = 0\n",
    "\n",
    "    frontier = [start_node]\n",
    "\n",
    "    while len(frontier) > 0:\n",
    "\n",
    "        selected_node = frontier.pop(0)\n",
    "\n",
    "        for dir in directions:\n",
    "\n",
    "            neighbour = (selected_node[0] + dir[0], selected_node[1] + dir[1])\n",
    "            if maze[neighbour[0]][neighbour[1]] == '#':\n",
    "                continue\n",
    "\n",
    "            if memo_cells[neighbour[0]][neighbour[1]].dist_to_goal is None or memo_cells[neighbour[0]][neighbour[1]].dist_to_goal > memo_cells[selected_node[0]][selected_node[1]].dist_to_goal + 1:\n",
    "                frontier.append(neighbour)\n",
    "                memo_cells[neighbour[0]][neighbour[1]].dist_to_goal = memo_cells[selected_node[0]][selected_node[1]].dist_to_goal + 1\n",
    "\n",
    "    return\n"
   ],
   "id": "dcec35f50c05abe",
   "outputs": [],
   "execution_count": 211
  },
  {
   "metadata": {
    "ExecuteTime": {
     "end_time": "2024-12-24T11:42:58.192959Z",
     "start_time": "2024-12-24T11:42:58.179961Z"
    }
   },
   "cell_type": "code",
   "source": "bfs(end)",
   "id": "a4e0b8ce317a8183",
   "outputs": [],
   "execution_count": 213
  },
  {
   "metadata": {
    "ExecuteTime": {
     "end_time": "2024-12-24T11:42:58.326082Z",
     "start_time": "2024-12-24T11:42:58.283225Z"
    }
   },
   "cell_type": "code",
   "source": [
    "with open('reverse_path.txt', 'r') as f:\n",
    "    path = [[int(x) for x in x.strip().split(',')] for x in f.readlines()]"
   ],
   "id": "95fd6fd8a490aa52",
   "outputs": [],
   "execution_count": 215
  },
  {
   "metadata": {
    "ExecuteTime": {
     "end_time": "2024-12-24T11:43:03.759640Z",
     "start_time": "2024-12-24T11:42:58.368304Z"
    }
   },
   "cell_type": "code",
   "source": [
    "def y_x_in_maze(y, x):\n",
    "    if 0 <= y < len(maze) and 0 <= x < len(maze[0]):\n",
    "        return True\n",
    "    return False\n",
    "\n",
    "\n",
    "wins = {}\n",
    "\n",
    "elt_100 = 0\n",
    "\n",
    "for i,elem in enumerate(path):\n",
    "    elem_dist_to_goal = memo_cells[elem[0]][elem[1]].dist_to_goal\n",
    "    for y in range(elem[0]-20, elem[0]+21):\n",
    "        for x in range(elem[1]-20, elem[1]+21):\n",
    "            if y == 0 and x == 0:\n",
    "                continue\n",
    "            dist_from_elem = (abs(elem[0]-y) + abs(elem[1]-x))\n",
    "            if y_x_in_maze(y, x) and maze[y][x] != '#' and dist_from_elem <= 20:\n",
    "                cheat_target_dist_to_goal = memo_cells[y][x].dist_to_goal\n",
    "                if cheat_target_dist_to_goal is None:\n",
    "                    continue\n",
    "                if dist_from_elem + cheat_target_dist_to_goal < elem_dist_to_goal:\n",
    "                    win = elem_dist_to_goal - (dist_from_elem + cheat_target_dist_to_goal)\n",
    "                    if win not in wins:\n",
    "                        wins[win] = 0\n",
    "                    wins[win] += 1\n",
    "                    if win >= 100:\n",
    "                        elt_100 += 1\n",
    "elt_100"
   ],
   "id": "443615694ea92586",
   "outputs": [
    {
     "data": {
      "text/plain": [
       "957831"
      ]
     },
     "execution_count": 216,
     "metadata": {},
     "output_type": "execute_result"
    }
   ],
   "execution_count": 216
  }
 ],
 "metadata": {
  "kernelspec": {
   "name": "python3",
   "language": "python",
   "display_name": "Python 3 (ipykernel)"
  }
 },
 "nbformat": 5,
 "nbformat_minor": 9
}
