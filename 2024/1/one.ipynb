{
 "cells": [
  {
   "cell_type": "code",
   "id": "d59eb541-338a-4b71-a912-c51a2adecab9",
   "metadata": {},
   "source": [
    "import pandas as pd"
   ],
   "outputs": [],
   "execution_count": null
  },
  {
   "cell_type": "code",
   "id": "4c692362-44f7-4d89-9c1d-2843c193ff71",
   "metadata": {},
   "source": [
    "!pip install pandas"
   ],
   "outputs": [],
   "execution_count": null
  },
  {
   "cell_type": "code",
   "id": "3e58f81f-2d1a-4082-807f-d733e4898240",
   "metadata": {},
   "source": [
    "import pandas as pd"
   ],
   "outputs": [],
   "execution_count": null
  },
  {
   "cell_type": "code",
   "id": "f94e023f-62c1-4a0e-85f6-b1041853a8cd",
   "metadata": {},
   "source": "df = pd.read_csv('1/ids.txt', header=None, sep=r\"\\s{3}\", engine='python')",
   "outputs": [],
   "execution_count": null
  },
  {
   "metadata": {},
   "cell_type": "code",
   "source": [
    "df1 = df.sort_values(by=[0])\n",
    "df1.reset_index(drop=True, inplace=True)"
   ],
   "id": "b5650604ce516e90",
   "outputs": [],
   "execution_count": null
  },
  {
   "metadata": {},
   "cell_type": "code",
   "source": [
    "df2 = df.sort_values(by=[1])\n",
    "df2.reset_index(drop=True, inplace=True)"
   ],
   "id": "192336dfc159da78",
   "outputs": [],
   "execution_count": null
  },
  {
   "metadata": {},
   "cell_type": "code",
   "source": "df2",
   "id": "501bc943be75586",
   "outputs": [],
   "execution_count": null
  },
  {
   "metadata": {},
   "cell_type": "code",
   "source": [
    "df3 = pd.concat([df1[0], df2[1]], axis=1)\n",
    "df3"
   ],
   "id": "3bb32aee35bb8032",
   "outputs": [],
   "execution_count": null
  },
  {
   "metadata": {},
   "cell_type": "code",
   "source": [
    "df3['diff'] = abs(df3[1] - df3[0])\n",
    "df3"
   ],
   "id": "8126d6fc5429aa85",
   "outputs": [],
   "execution_count": null
  },
  {
   "metadata": {},
   "cell_type": "code",
   "source": "df3['diff'].sum()",
   "id": "eb54ee843c6982b9",
   "outputs": [],
   "execution_count": null
  },
  {
   "metadata": {},
   "cell_type": "code",
   "source": [
    "sim_sum = 0\n",
    "continue_from = 0\n",
    "for left_val in df3[0].values:\n",
    "    curr_found = 0\n",
    "    for right_val in df3[1].values:\n",
    "        if right_val > left_val:\n",
    "            sim_sum += curr_found * left_val\n",
    "            break\n",
    "        elif left_val == right_val:\n",
    "            curr_found += 1\n",
    "            \n",
    "print(sim_sum)"
   ],
   "id": "de9d201765126724",
   "outputs": [],
   "execution_count": null
  }
 ],
 "metadata": {
  "kernelspec": {
   "display_name": "Python 3 (ipykernel)",
   "language": "python",
   "name": "python3"
  },
  "language_info": {
   "codemirror_mode": {
    "name": "ipython",
    "version": 3
   },
   "file_extension": ".py",
   "mimetype": "text/x-python",
   "name": "python",
   "nbconvert_exporter": "python",
   "pygments_lexer": "ipython3",
   "version": "3.12.7"
  }
 },
 "nbformat": 4,
 "nbformat_minor": 5
}
