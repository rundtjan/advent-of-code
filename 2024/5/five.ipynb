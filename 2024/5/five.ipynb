{
 "cells": [
  {
   "cell_type": "code",
   "id": "initial_id",
   "metadata": {
    "collapsed": true
   },
   "source": [
    "filename = 'pages.txt'\n",
    "\n",
    "rules = []\n",
    "pages = []\n",
    "\n",
    "with open(filename) as f:\n",
    "    for line in f.readlines():\n",
    "        if '|' in line:\n",
    "            rules.append(line[:len(line)-1])\n",
    "        else:\n",
    "            pages.append(line[:len(line)-1])"
   ],
   "outputs": [],
   "execution_count": null
  },
  {
   "metadata": {},
   "cell_type": "code",
   "source": "len(rules)",
   "id": "509d5d785e842159",
   "outputs": [],
   "execution_count": null
  },
  {
   "metadata": {},
   "cell_type": "code",
   "source": [
    "rule_book = {}\n",
    "\n",
    "for rule in rules:\n",
    "    srule = rule.split('|')\n",
    "    if not int(srule[1]) in rule_book:\n",
    "        rule_book[int(srule[1])] = set()\n",
    "    rule_book[int(srule[1])].add(int(srule[0]))"
   ],
   "id": "3f5290522dbde480",
   "outputs": [],
   "execution_count": null
  },
  {
   "metadata": {},
   "cell_type": "code",
   "source": [
    "pages = pages[1:]\n",
    "pages[0]"
   ],
   "id": "9dba707d09bf13e",
   "outputs": [],
   "execution_count": null
  },
  {
   "metadata": {},
   "cell_type": "code",
   "source": "test_arr = pages[0].split(',')",
   "id": "944d387f31b242af",
   "outputs": [],
   "execution_count": null
  },
  {
   "metadata": {},
   "cell_type": "code",
   "source": [
    "for key in rule_book:\n",
    "    print(rule_book[key])"
   ],
   "id": "df00d0188f0be19d",
   "outputs": [],
   "execution_count": null
  },
  {
   "metadata": {},
   "cell_type": "code",
   "source": [
    "faulty_rows = []\n",
    "\n",
    "def check_row(row):\n",
    "    arr = row.split(',')\n",
    "    a_bad_un = False\n",
    "    forbidden_nums = set()\n",
    "    for i, elem in enumerate(arr):\n",
    "        if int(elem) in forbidden_nums:\n",
    "            a_bad_un = True\n",
    "            faulty_rows.append(row)\n",
    "            break\n",
    "        new_forbidden = rule_book.get(int(elem))\n",
    "        if new_forbidden:\n",
    "            for new_problem in new_forbidden:\n",
    "                forbidden_nums.add(new_problem)\n",
    "    if not a_bad_un:\n",
    "        return int(arr[int(len(arr)/2)])\n",
    "    else:\n",
    "        return 0\n",
    "\n",
    "middle_sum = 0\n",
    "\n",
    "for page in pages:\n",
    "    middle_sum += check_row(page)\n",
    "\n",
    "middle_sum"
   ],
   "id": "779ede3751b98035",
   "outputs": [],
   "execution_count": null
  },
  {
   "metadata": {},
   "cell_type": "code",
   "source": "len(faulty_rows)",
   "id": "8fa5f197220f68ae",
   "outputs": [],
   "execution_count": null
  },
  {
   "metadata": {},
   "cell_type": "code",
   "source": [
    "test_these_arrs = []\n",
    "\n",
    "def check_row_variation(row):\n",
    "    arr = row.split(',')\n",
    "    print('---------------------------------------')\n",
    "    print(arr)\n",
    "    i = 0\n",
    "    master_break_signal = False\n",
    "    while True:\n",
    "        if master_break_signal:\n",
    "            break\n",
    "        break_signal = False\n",
    "        for i, elem in enumerate(arr):\n",
    "            if i > 0:\n",
    "                for i2, elem2 in enumerate(arr):\n",
    "                    if i2 == i:\n",
    "                        break # have not found a conflict in earlier numbers\n",
    "                    if int(elem2) in rule_book and int(elem) in rule_book[int(elem2)]:\n",
    "                        # print(\"before\", len(arr), arr)\n",
    "                        new_arr = arr[:i2] + [elem] + arr[i2:i] + arr[i+1:]\n",
    "                        arr = new_arr[:]\n",
    "                        # print(\"after\", len(arr), arr)\n",
    "                        break_signal = True # found a conflict, first enumerator will start from beginning\n",
    "                        break\n",
    "                if break_signal:\n",
    "                    break # start first enumerator from beginning\n",
    "            if i == len(arr) - 1:\n",
    "                master_break_signal = True # came through the check above \n",
    "                break\n",
    "    test_these_arrs.append(arr[:])\n",
    "\n",
    "\n",
    "for faulty in faulty_rows:\n",
    "    check_row_variation(faulty)"
   ],
   "id": "b8ceea23d9f090e2",
   "outputs": [],
   "execution_count": null
  },
  {
   "metadata": {},
   "cell_type": "code",
   "source": "[0,1,2,3,4][2:]",
   "id": "2620bee0381e4fdf",
   "outputs": [],
   "execution_count": null
  },
  {
   "metadata": {},
   "cell_type": "code",
   "source": [
    "print(test_these_arrs)\n",
    "\n",
    "new_sum = 0\n",
    "for arr in test_these_arrs:\n",
    "    new_sum += check_row(\",\".join(arr))\n",
    "    \n",
    "new_sum"
   ],
   "id": "52fb38abd23c85ef",
   "outputs": [],
   "execution_count": null
  }
 ],
 "metadata": {
  "kernelspec": {
   "display_name": "Python 3",
   "language": "python",
   "name": "python3"
  },
  "language_info": {
   "codemirror_mode": {
    "name": "ipython",
    "version": 2
   },
   "file_extension": ".py",
   "mimetype": "text/x-python",
   "name": "python",
   "nbconvert_exporter": "python",
   "pygments_lexer": "ipython2",
   "version": "2.7.6"
  }
 },
 "nbformat": 4,
 "nbformat_minor": 5
}
