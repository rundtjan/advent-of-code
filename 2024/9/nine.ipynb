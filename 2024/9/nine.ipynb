{
 "cells": [
  {
   "cell_type": "code",
   "id": "initial_id",
   "metadata": {
    "collapsed": true
   },
   "source": [
    "file_name = 'input.txt'\n",
    "\n",
    "with open(file_name) as f:\n",
    "    rows_raw = list(f.readlines())\n",
    "    inputs = rows_raw[0]\n",
    "    inputs = inputs[:len(inputs)-1]\n",
    "    \n",
    "inputs"
   ],
   "outputs": [],
   "execution_count": null
  },
  {
   "metadata": {},
   "cell_type": "code",
   "source": [
    "mod_input = []\n",
    "id_num = 0\n",
    "for i, elem in enumerate(list(inputs)):\n",
    "    if i % 2 == 0:\n",
    "        for j in range(int(elem)):\n",
    "            mod_input.append(id_num)\n",
    "        id_num += 1\n",
    "    else:\n",
    "        for j in range(int(elem)):\n",
    "            mod_input.append('.')"
   ],
   "id": "13e2db7bea300128",
   "outputs": [],
   "execution_count": null
  },
  {
   "metadata": {},
   "cell_type": "code",
   "source": "mod_input",
   "id": "c4276a001bd25934",
   "outputs": [],
   "execution_count": null
  },
  {
   "metadata": {},
   "cell_type": "code",
   "source": [
    "idx = 0\n",
    "back_idx = len(mod_input) - 1\n",
    "stop_flag = False\n",
    "while True:\n",
    "    elem = mod_input[back_idx]\n",
    "    while True:\n",
    "        if elem != '.':\n",
    "            break\n",
    "        back_idx -= 1\n",
    "        if back_idx == idx:\n",
    "            stop_flag = True\n",
    "            break\n",
    "        elem = mod_input[back_idx]\n",
    "    if stop_flag:\n",
    "        break\n",
    "    target = mod_input[idx]\n",
    "    while True:\n",
    "        if target == '.':\n",
    "            break\n",
    "        idx += 1\n",
    "        if back_idx == idx:\n",
    "            stop_flag = True\n",
    "            break\n",
    "        target = mod_input[idx]\n",
    "    if stop_flag:\n",
    "        break\n",
    "    mod_input[idx] = elem\n",
    "    mod_input[back_idx] = '.'\n",
    "    back_idx -= 1\n"
   ],
   "id": "154195669944b31f",
   "outputs": [],
   "execution_count": null
  },
  {
   "metadata": {},
   "cell_type": "code",
   "source": [
    "mod_input_string = \"\".join([str(x) for x in mod_input])\n",
    "mod_input_string"
   ],
   "id": "dbc828be8cfac15f",
   "outputs": [],
   "execution_count": null
  },
  {
   "metadata": {},
   "cell_type": "code",
   "source": [
    "sum = 0\n",
    "for i, elem in enumerate(mod_input):\n",
    "    if elem == '.':\n",
    "        break\n",
    "    sum += i * int(elem)\n",
    "\n",
    "sum"
   ],
   "id": "a5c22447e0080ae1",
   "outputs": [],
   "execution_count": null
  }
 ],
 "metadata": {
  "kernelspec": {
   "display_name": "Python 3",
   "language": "python",
   "name": "python3"
  },
  "language_info": {
   "codemirror_mode": {
    "name": "ipython",
    "version": 2
   },
   "file_extension": ".py",
   "mimetype": "text/x-python",
   "name": "python",
   "nbconvert_exporter": "python",
   "pygments_lexer": "ipython2",
   "version": "2.7.6"
  }
 },
 "nbformat": 4,
 "nbformat_minor": 5
}
