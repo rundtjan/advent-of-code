{
 "cells": [
  {
   "cell_type": "code",
   "id": "initial_id",
   "metadata": {
    "collapsed": true
   },
   "source": [
    "file_name = 'input.txt'\n",
    "\n",
    "with open(file_name) as f:\n",
    "    rows_raw = list(f.readlines())\n",
    "    inputs = rows_raw[0]\n",
    "    inputs = inputs[:len(inputs)-1]\n",
    "    \n",
    "inputs"
   ],
   "outputs": [],
   "execution_count": null
  },
  {
   "metadata": {},
   "cell_type": "code",
   "source": [
    "mod_input = []\n",
    "id_num = 0\n",
    "for i, elem in enumerate(list(inputs)):\n",
    "    if i % 2 == 0:\n",
    "        for j in range(int(elem)):\n",
    "            mod_input.append(id_num)\n",
    "        id_num += 1\n",
    "    else:\n",
    "        for j in range(int(elem)):\n",
    "            mod_input.append('.')"
   ],
   "id": "13e2db7bea300128",
   "outputs": [],
   "execution_count": null
  },
  {
   "metadata": {},
   "cell_type": "code",
   "source": "mod_input",
   "id": "d147ebfe6f9ab273",
   "outputs": [],
   "execution_count": null
  },
  {
   "metadata": {},
   "cell_type": "code",
   "source": [
    "spaces = []\n",
    "files = []\n",
    "for i, elem in enumerate(list(inputs)):\n",
    "    if i % 2 != 0:\n",
    "        spaces.append({'space': elem, 'index': None, 'free': True})\n",
    "    else:\n",
    "        files.append({'file_size': elem, 'index': None})"
   ],
   "id": "c4276a001bd25934",
   "outputs": [],
   "execution_count": null
  },
  {
   "metadata": {},
   "cell_type": "code",
   "source": "files",
   "id": "d3934275a8590bc2",
   "outputs": [],
   "execution_count": null
  },
  {
   "metadata": {},
   "cell_type": "code",
   "source": "spaces = list(filter(lambda x: x['space'] != '0', spaces))",
   "id": "e0fd974d9d6ba8e5",
   "outputs": [],
   "execution_count": null
  },
  {
   "metadata": {},
   "cell_type": "code",
   "source": "spaces",
   "id": "2a46563eb03cf7ba",
   "outputs": [],
   "execution_count": null
  },
  {
   "metadata": {},
   "cell_type": "code",
   "source": "len(files)",
   "id": "10140066a89aa952",
   "outputs": [],
   "execution_count": null
  },
  {
   "metadata": {},
   "cell_type": "code",
   "source": "len(inputs)",
   "id": "18cbdcdc907a045",
   "outputs": [],
   "execution_count": null
  },
  {
   "metadata": {},
   "cell_type": "code",
   "source": [
    "space_idx = 0\n",
    "file_idx = 0\n",
    "sum = 0\n",
    "in_space = False\n",
    "latest = -1\n",
    "for i, elem in enumerate(mod_input):\n",
    "    if elem == '.':\n",
    "        in_file = False\n",
    "        if not in_space:\n",
    "            spaces[space_idx]['index'] = i\n",
    "            space_idx += 1\n",
    "        in_space = True\n",
    "    else:\n",
    "        in_space = False\n",
    "        if elem != latest:\n",
    "            latest = elem\n",
    "            sum += 1\n",
    "            files[file_idx]['index'] = i\n",
    "            file_idx += 1\n",
    "            "
   ],
   "id": "82d6d8636a3cb727",
   "outputs": [],
   "execution_count": null
  },
  {
   "metadata": {},
   "cell_type": "code",
   "source": [
    "spaces.reverse()\n",
    "spaces"
   ],
   "id": "46d374a9100d7f0e",
   "outputs": [],
   "execution_count": null
  },
  {
   "metadata": {},
   "cell_type": "code",
   "source": "",
   "id": "4b0767d81d5f3de1",
   "outputs": [],
   "execution_count": null
  },
  {
   "metadata": {},
   "cell_type": "code",
   "source": [
    "space_dict = {}\n",
    "for elem in spaces:\n",
    "    if elem['space'] not in space_dict:\n",
    "        space_dict[elem['space']] = []\n",
    "    space_dict[elem['space']].append(elem['index'])"
   ],
   "id": "d47c62a07dbe8c4f",
   "outputs": [],
   "execution_count": null
  },
  {
   "metadata": {},
   "cell_type": "code",
   "source": "space_dict",
   "id": "1041249b5961bb42",
   "outputs": [],
   "execution_count": null
  },
  {
   "metadata": {},
   "cell_type": "code",
   "source": [
    "main_idx = len(files) - 1\n",
    "\n",
    "while True:\n",
    "    file_size = int(files[main_idx]['file_size'])\n",
    "    # print(\"at main_idx\", main_idx)\n",
    "    left_most_option = {'index': len(mod_input), 'size': 0}\n",
    "    for space_size in range(file_size, 10):\n",
    "        # print(\"trying different space sizes\", space_size)\n",
    "        possible_spaces = space_dict.get(str(space_size), [])\n",
    "        if len(possible_spaces) > 0:\n",
    "            # print(\"spaze size\", space_size, \"array\", possible_spaces)\n",
    "            if possible_spaces[-1] < left_most_option['index']:\n",
    "                left_most_option['index'] = possible_spaces[-1]\n",
    "                left_most_option['size'] = space_size\n",
    "    # print('at main_idx', main_idx, 'left most space idx', left_most_option['index'])\n",
    "    if left_most_option['index'] < int(files[main_idx]['index']):\n",
    "        # print(\"so with main_idx\", main_idx, \"starting move\")\n",
    "        space_dict.get(str(left_most_option['size'])).pop()\n",
    "        move_from = int(files[main_idx]['index'])\n",
    "        move_to = int(left_most_option['index'])\n",
    "        # print(\"moving from\", move_from, \"to\", move_to)\n",
    "        for i in range(file_size):\n",
    "            mod_input[move_to + i] = mod_input[move_from + i]\n",
    "            mod_input[move_from + i] = '.'\n",
    "        if left_most_option['size'] > file_size:\n",
    "            rest = left_most_option['size'] - file_size\n",
    "            if str(rest) not in space_dict:\n",
    "                space_dict[str(rest)] = [move_to + file_size]\n",
    "            else:\n",
    "                space_dict[str(rest)].append(move_to + file_size)\n",
    "                space_dict[str(rest)].sort()\n",
    "                space_dict[str(rest)].reverse()\n",
    "    main_idx -= 1\n",
    "    if main_idx < 0:\n",
    "        break\n"
   ],
   "id": "154195669944b31f",
   "outputs": [],
   "execution_count": null
  },
  {
   "metadata": {},
   "cell_type": "code",
   "source": [
    "mod_input_string = \"|\".join([str(x) for x in mod_input])\n",
    "with open('output.txt', 'w') as f2:\n",
    "    f2.write(mod_input_string)"
   ],
   "id": "dbc828be8cfac15f",
   "outputs": [],
   "execution_count": null
  },
  {
   "metadata": {},
   "cell_type": "code",
   "source": "mod_input",
   "id": "39f50f04636513aa",
   "outputs": [],
   "execution_count": null
  },
  {
   "metadata": {},
   "cell_type": "code",
   "source": [
    "sum = 0\n",
    "for i, elem in enumerate(mod_input):\n",
    "    if elem == '.':\n",
    "        continue\n",
    "    sum += i * int(elem)\n",
    "\n",
    "sum"
   ],
   "id": "a5c22447e0080ae1",
   "outputs": [],
   "execution_count": null
  }
 ],
 "metadata": {
  "kernelspec": {
   "display_name": "Python 3",
   "language": "python",
   "name": "python3"
  },
  "language_info": {
   "codemirror_mode": {
    "name": "ipython",
    "version": 2
   },
   "file_extension": ".py",
   "mimetype": "text/x-python",
   "name": "python",
   "nbconvert_exporter": "python",
   "pygments_lexer": "ipython2",
   "version": "2.7.6"
  }
 },
 "nbformat": 4,
 "nbformat_minor": 5
}
