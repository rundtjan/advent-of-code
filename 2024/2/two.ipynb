{
 "cells": [
  {
   "cell_type": "code",
   "id": "initial_id",
   "metadata": {
    "collapsed": true
   },
   "source": [
    "filename = '2/levels.txt'\n",
    "filename2 = '2/levels_var.txt'\n",
    "\n",
    "with open(filename) as f:\n",
    "    levels = f.readlines()"
   ],
   "outputs": [],
   "execution_count": null
  },
  {
   "metadata": {},
   "cell_type": "code",
   "source": [
    "new_levels = [x.split('\\n')[0].split(' ') for x in levels]\n",
    "new_levels"
   ],
   "id": "85faba7078242453",
   "outputs": [],
   "execution_count": null
  },
  {
   "metadata": {},
   "cell_type": "code",
   "source": [
    "unsafe = 0\n",
    "\n",
    "for j, level in enumerate(new_levels):\n",
    "    asc = True\n",
    "    prior = None\n",
    "    for i, elem in enumerate(level):\n",
    "        curr = int(elem)\n",
    "        if i == 0:\n",
    "            prior = curr\n",
    "            continue\n",
    "        elif curr == prior or abs(curr-prior) > 3:\n",
    "            unsafe += 1\n",
    "            print(j, i, level, \"wrong space\")\n",
    "            break\n",
    "        elif i == 1:\n",
    "            if curr < prior:\n",
    "                asc = False\n",
    "                prior = curr\n",
    "                continue\n",
    "        elif (curr > prior and not asc) or (curr < prior and asc):\n",
    "            unsafe += 1\n",
    "            print(j,i,level, \"wrong direction\")\n",
    "            break\n",
    "        prior = curr\n",
    "\n",
    "unsafe"
   ],
   "id": "8524ebaed2042654",
   "outputs": [],
   "execution_count": null
  },
  {
   "metadata": {},
   "cell_type": "code",
   "source": "len(new_levels) - unsafe",
   "id": "340943d35f53bae7",
   "outputs": [],
   "execution_count": null
  },
  {
   "metadata": {},
   "cell_type": "code",
   "source": "print([0,1,2,3][1:][:])",
   "id": "548ee01d8a532f59",
   "outputs": [],
   "execution_count": null
  },
  {
   "metadata": {},
   "cell_type": "code",
   "source": [
    "new_levels2 = new_levels[:]\n",
    "variations = []\n",
    "\n",
    "unsafe = 0\n",
    "\n",
    "def create_versions(arr, index, mother_arr, three=False):\n",
    "    varied_arrs = []\n",
    "    if three:\n",
    "        varied_arrs.append(arr[1:][:])\n",
    "    for sub in [0,1]:\n",
    "        new_arr = []\n",
    "        for i, elem in enumerate(arr):\n",
    "            if i == index-sub:\n",
    "                continue\n",
    "            else:\n",
    "                new_arr.append(elem)\n",
    "        varied_arrs.append(new_arr[:])\n",
    "    mother_arr.append(varied_arrs)\n",
    "        \n",
    "# mother = [[1,2,3,5], [3,4,5,2,1]]\n",
    "# \n",
    "# create_versions([1,2,3,4,5,6,7], 3, mother)\n",
    "\n",
    "# print(mother)\n",
    "\n",
    "def check_loop(master_arr, var_arr, with_var):\n",
    "    unsafe = 0\n",
    "    safe = 0\n",
    "    unsafe_non_asc_and_not_three = 0\n",
    "    for j, level in enumerate(master_arr):\n",
    "        asc = True\n",
    "        prior = None\n",
    "        trying_asc_change = False\n",
    "        for i, elem in enumerate(level):\n",
    "            curr = int(elem)\n",
    "            if i == 0:\n",
    "                prior = curr\n",
    "                continue\n",
    "            elif curr == prior or abs(curr-prior) > 3:\n",
    "                unsafe += 1\n",
    "                # print(j, i, level, \"wrong space\")\n",
    "                if with_var:\n",
    "                    create_versions(level[:], i, var_arr)\n",
    "                break\n",
    "            elif i == 1:\n",
    "                if curr < prior:\n",
    "                    asc = False\n",
    "                    prior = curr\n",
    "                    continue\n",
    "            elif (curr > prior and not asc) or (curr < prior and asc):\n",
    "                    unsafe += 1\n",
    "                    if i == 2 and with_var:\n",
    "                        create_versions(level[:], i, var_arr, True)\n",
    "                    else:\n",
    "                        unsafe_non_asc_and_not_three += 1\n",
    "                    # print(j,i,level, \"wrong direction\")\n",
    "                    break\n",
    "            prior = curr\n",
    "            if i == len(level) - 1:\n",
    "                safe += 1\n",
    "    print(\"should be safe\", safe)\n",
    "    return unsafe\n",
    "print(\"unsafe without alternatives\", check_loop(new_levels2, variations, True))\n",
    "len(variations)"
   ],
   "id": "64006b3fa0e9e05b",
   "outputs": [],
   "execution_count": null
  },
  {
   "metadata": {},
   "cell_type": "code",
   "source": "len(new_levels2)",
   "id": "6921e0428896d98b",
   "outputs": [],
   "execution_count": null
  },
  {
   "metadata": {},
   "cell_type": "code",
   "source": [
    "alternatives = 0\n",
    "for elem in variations:\n",
    "    unsafe_in_elem = check_loop(elem, [], False)\n",
    "    if unsafe_in_elem < len(elem):\n",
    "        # print(elem)\n",
    "        alternatives += 1\n",
    "\n",
    "print(alternatives)"
   ],
   "id": "b564c4fd29021b3c",
   "outputs": [],
   "execution_count": null
  },
  {
   "metadata": {},
   "cell_type": "code",
   "source": "1000 - 668 + 55",
   "id": "e82c6aa9b1857cac",
   "outputs": [],
   "execution_count": null
  },
  {
   "metadata": {},
   "cell_type": "code",
   "source": "[1,2,3,4][:3] + [1,2,3,4][4:]",
   "id": "d52ac630d2df6c17",
   "outputs": [],
   "execution_count": null
  },
  {
   "metadata": {},
   "cell_type": "code",
   "source": [
    "variations = []\n",
    "for elem in new_levels2:\n",
    "    elem_arr = []\n",
    "    for i in range(len(elem)):\n",
    "        new_arr = elem[:i] + elem[i+1:]\n",
    "        elem_arr.append(new_arr[:])\n",
    "    variations.append(elem_arr)\n",
    "print(len(variations))\n",
    "\n",
    "works = 0\n",
    "for var in variations:\n",
    "    unsafe = check_loop(var, [], False)\n",
    "    if unsafe < len(var):\n",
    "        works += 1\n",
    "\n",
    "print(works)"
   ],
   "id": "9d7de8dac1347561",
   "outputs": [],
   "execution_count": null
  }
 ],
 "metadata": {
  "kernelspec": {
   "display_name": "Python 3",
   "language": "python",
   "name": "python3"
  },
  "language_info": {
   "codemirror_mode": {
    "name": "ipython",
    "version": 2
   },
   "file_extension": ".py",
   "mimetype": "text/x-python",
   "name": "python",
   "nbconvert_exporter": "python",
   "pygments_lexer": "ipython2",
   "version": "2.7.6"
  }
 },
 "nbformat": 4,
 "nbformat_minor": 5
}
