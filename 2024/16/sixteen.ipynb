{
 "cells": [
  {
   "metadata": {},
   "cell_type": "code",
   "source": [
    "filename = 'input.txt'\n",
    "\n",
    "with open(filename) as f:\n",
    "    inputz = [list(line.strip()) for line in f.readlines()]"
   ],
   "id": "47ed691c7dcf34d",
   "outputs": [],
   "execution_count": null
  },
  {
   "metadata": {},
   "cell_type": "code",
   "source": [
    "for y, row in enumerate(inputz):\n",
    "    for x, elem in enumerate(row):\n",
    "        if elem == 'S':\n",
    "            rein_pos = (y, x)\n",
    "\n",
    "rein_pos"
   ],
   "id": "ddd3103d1d741130",
   "outputs": [],
   "execution_count": null
  },
  {
   "metadata": {},
   "cell_type": "code",
   "source": "directions =  [(0, 1), (-1, 0), (0, -1), (1, 0)]",
   "id": "81326b5c37833570",
   "outputs": [],
   "execution_count": null
  },
  {
   "metadata": {},
   "cell_type": "code",
   "source": [
    "values = []\n",
    "\n",
    "for y, row in enumerate(inputz):\n",
    "    values.append([])\n",
    "    for x, elem in enumerate(row):\n",
    "        values[y].append(None)"
   ],
   "id": "90ab679963dac40b",
   "outputs": [],
   "execution_count": null
  },
  {
   "metadata": {},
   "cell_type": "code",
   "source": "final_value = 0",
   "id": "99da518517df3bbb",
   "outputs": [],
   "execution_count": null
  },
  {
   "metadata": {},
   "cell_type": "code",
   "source": [
    "def do_move(position, dir_idx, value):\n",
    "    global final_value\n",
    "    values[position[0]][position[1]] = value\n",
    "    if inputz[position[0]][position[1]] == 'E':\n",
    "        print(\"i am at the end\", value)\n",
    "        final_value = value\n",
    "        return\n",
    "    front_move = directions[dir_idx]\n",
    "    front_pos = (position[0] + front_move[0], position[1] + front_move[1])\n",
    "    if inputz[front_pos[0]][front_pos[1]] in ['.', 'E'] and (not values[front_pos[0]][front_pos[1]] or values[front_pos[0]][front_pos[1]] > value + 1):\n",
    "        do_move(front_pos, dir_idx, value + 1)\n",
    "    if dir_idx == 0:\n",
    "        turn_left = 3\n",
    "    else:\n",
    "        turn_left = dir_idx - 1\n",
    "    if dir_idx == 3:\n",
    "        turn_right = 0\n",
    "    else:\n",
    "        turn_right = dir_idx + 1\n",
    "    left_move = directions[turn_left]\n",
    "    left_pos = (position[0] + left_move[0], position[1] + left_move[1])\n",
    "    if inputz[left_pos[0]][left_pos[1]] in ['.', 'E'] and (not values[left_pos[0]][left_pos[1]] or values[left_pos[0]][left_pos[1]] > value + 1001):\n",
    "        do_move(left_pos, turn_left, value + 1001)\n",
    "    right_move = directions[turn_right]\n",
    "    right_pos = (position[0] + right_move[0], position[1] + right_move[1])\n",
    "    if inputz[right_pos[0]][right_pos[1]] in ['.', 'E']  and (not values[right_pos[0]][right_pos[1]] or values[right_pos[0]][right_pos[1]] > value + 1001):\n",
    "        do_move(right_pos, turn_right, value + 1001)\n"
   ],
   "id": "5acd268465da061c",
   "outputs": [],
   "execution_count": null
  },
  {
   "metadata": {},
   "cell_type": "code",
   "source": "do_move(rein_pos, 0, 0)",
   "id": "9393e1f419a61c5b",
   "outputs": [],
   "execution_count": null
  },
  {
   "metadata": {},
   "cell_type": "code",
   "source": [
    "def print_vals():\n",
    "    for row in values:\n",
    "        print(row)\n",
    "\n",
    "print_vals()"
   ],
   "id": "52f1e9b9a23ab77e",
   "outputs": [],
   "execution_count": null
  },
  {
   "metadata": {},
   "cell_type": "code",
   "source": "final_value",
   "id": "a0d964256103d6db",
   "outputs": [],
   "execution_count": null
  }
 ],
 "metadata": {
  "kernelspec": {
   "name": "python3",
   "language": "python",
   "display_name": "Python 3 (ipykernel)"
  }
 },
 "nbformat": 5,
 "nbformat_minor": 9
}
