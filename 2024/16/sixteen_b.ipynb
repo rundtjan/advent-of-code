{
 "cells": [
  {
   "metadata": {
    "ExecuteTime": {
     "end_time": "2024-12-19T18:23:30.314608Z",
     "start_time": "2024-12-19T18:23:30.310258Z"
    }
   },
   "cell_type": "code",
   "source": [
    "filename = 'input.txt'\n",
    "\n",
    "with open(filename) as f:\n",
    "    inputz = [list(line.strip()) for line in f.readlines()]"
   ],
   "id": "47ed691c7dcf34d",
   "outputs": [],
   "execution_count": 32
  },
  {
   "metadata": {
    "ExecuteTime": {
     "end_time": "2024-12-19T18:23:30.322970Z",
     "start_time": "2024-12-19T18:23:30.317045Z"
    }
   },
   "cell_type": "code",
   "source": [
    "for y, row in enumerate(inputz):\n",
    "    for x, elem in enumerate(row):\n",
    "        if elem == 'S':\n",
    "            rein_pos = (y, x)\n",
    "\n",
    "rein_pos"
   ],
   "id": "ddd3103d1d741130",
   "outputs": [
    {
     "data": {
      "text/plain": [
       "(139, 1)"
      ]
     },
     "execution_count": 33,
     "metadata": {},
     "output_type": "execute_result"
    }
   ],
   "execution_count": 33
  },
  {
   "metadata": {
    "ExecuteTime": {
     "end_time": "2024-12-19T18:23:30.371067Z",
     "start_time": "2024-12-19T18:23:30.368392Z"
    }
   },
   "cell_type": "code",
   "source": "directions =  [(0, 1), (-1, 0), (0, -1), (1, 0)]",
   "id": "81326b5c37833570",
   "outputs": [],
   "execution_count": 34
  },
  {
   "metadata": {
    "ExecuteTime": {
     "end_time": "2024-12-19T18:23:30.424824Z",
     "start_time": "2024-12-19T18:23:30.419741Z"
    }
   },
   "cell_type": "code",
   "source": [
    "values = []\n",
    "\n",
    "for y, row in enumerate(inputz):\n",
    "    values.append([])\n",
    "    for x, elem in enumerate(row):\n",
    "        values[y].append(None)"
   ],
   "id": "90ab679963dac40b",
   "outputs": [],
   "execution_count": 35
  },
  {
   "metadata": {
    "ExecuteTime": {
     "end_time": "2024-12-19T18:23:30.476080Z",
     "start_time": "2024-12-19T18:23:30.468257Z"
    }
   },
   "cell_type": "code",
   "source": [
    "parent_at_value = []\n",
    "\n",
    "for y, row in enumerate(inputz):\n",
    "    parent_at_value.append([])\n",
    "    for x, elem in enumerate(row):\n",
    "        parent_at_value[y].append({})"
   ],
   "id": "c5afe2bd81d8f2da",
   "outputs": [],
   "execution_count": 36
  },
  {
   "metadata": {
    "ExecuteTime": {
     "end_time": "2024-12-19T18:23:30.529463Z",
     "start_time": "2024-12-19T18:23:30.524516Z"
    }
   },
   "cell_type": "code",
   "source": "ends: dict[int, set] = {}",
   "id": "99da518517df3bbb",
   "outputs": [],
   "execution_count": 37
  },
  {
   "metadata": {
    "ExecuteTime": {
     "end_time": "2024-12-19T18:23:30.579160Z",
     "start_time": "2024-12-19T18:23:30.572995Z"
    }
   },
   "cell_type": "code",
   "source": "final_value = None",
   "id": "77a40b5bf0577806",
   "outputs": [],
   "execution_count": 38
  },
  {
   "metadata": {
    "ExecuteTime": {
     "end_time": "2024-12-19T18:23:30.632132Z",
     "start_time": "2024-12-19T18:23:30.623962Z"
    }
   },
   "cell_type": "code",
   "source": [
    "def do_move(position, dir_idx, value, visited):\n",
    "    current_value = values[position[0]][position[1]]\n",
    "    if not current_value or current_value > value:\n",
    "        values[position[0]][position[1]] = value\n",
    "    elif current_value and current_value + 1000 < value:\n",
    "        return\n",
    "    global final_value\n",
    "    if final_value and value > final_value:\n",
    "        return\n",
    "    visited.append(position)\n",
    "    if inputz[position[0]][position[1]] == 'E':\n",
    "        if not final_value or final_value > value:\n",
    "            final_value = value\n",
    "        if value not in ends:\n",
    "            ends[value] = set()\n",
    "        for visit in visited:\n",
    "            ends[value].add(visit)\n",
    "        # print(\"i am at the end\", value)\n",
    "        return\n",
    "    front_move = directions[dir_idx]\n",
    "    front_pos = (position[0] + front_move[0], position[1] + front_move[1])\n",
    "    if inputz[front_pos[0]][front_pos[1]] in ['.', 'E'] and front_pos not in visited:\n",
    "        do_move(front_pos, dir_idx, value + 1, visited[:])\n",
    "    if dir_idx == 0:\n",
    "        turn_left = 3\n",
    "    else:\n",
    "        turn_left = dir_idx - 1\n",
    "    if dir_idx == 3:\n",
    "        turn_right = 0\n",
    "    else:\n",
    "        turn_right = dir_idx + 1\n",
    "    left_move = directions[turn_left]\n",
    "    left_pos = (position[0] + left_move[0], position[1] + left_move[1])\n",
    "    if inputz[left_pos[0]][left_pos[1]] in ['.', 'E'] and left_pos not in visited:\n",
    "        do_move(left_pos, turn_left, value + 1001, visited[:])\n",
    "    right_move = directions[turn_right]\n",
    "    right_pos = (position[0] + right_move[0], position[1] + right_move[1])\n",
    "    if inputz[right_pos[0]][right_pos[1]] in ['.', 'E']  and right_pos not in visited:\n",
    "        do_move(right_pos, turn_right, value + 1001, visited[:])\n"
   ],
   "id": "5acd268465da061c",
   "outputs": [],
   "execution_count": 39
  },
  {
   "metadata": {
    "ExecuteTime": {
     "end_time": "2024-12-19T18:23:50.910291Z",
     "start_time": "2024-12-19T18:23:30.679081Z"
    }
   },
   "cell_type": "code",
   "source": "do_move(rein_pos, 0, 0, [rein_pos])",
   "id": "9393e1f419a61c5b",
   "outputs": [],
   "execution_count": 40
  },
  {
   "metadata": {
    "ExecuteTime": {
     "end_time": "2024-12-19T18:23:50.921765Z",
     "start_time": "2024-12-19T18:23:50.919177Z"
    }
   },
   "cell_type": "code",
   "source": [
    "smallest_end_result = min([x for x in ends])\n",
    "len(ends[smallest_end_result])"
   ],
   "id": "ef34d07e8cf3b06f",
   "outputs": [
    {
     "data": {
      "text/plain": [
       "670"
      ]
     },
     "execution_count": 41,
     "metadata": {},
     "output_type": "execute_result"
    }
   ],
   "execution_count": 41
  }
 ],
 "metadata": {
  "kernelspec": {
   "name": "python3",
   "language": "python",
   "display_name": "Python 3 (ipykernel)"
  }
 },
 "nbformat": 5,
 "nbformat_minor": 9
}
