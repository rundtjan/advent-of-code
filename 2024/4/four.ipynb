{
 "cells": [
  {
   "cell_type": "code",
   "id": "initial_id",
   "metadata": {
    "collapsed": true
   },
   "source": [
    "filename = 'xmas.txt'\n",
    "\n",
    "with open(filename) as f:\n",
    "    program = f.readlines()"
   ],
   "outputs": [],
   "execution_count": null
  },
  {
   "metadata": {},
   "cell_type": "code",
   "source": [
    "xmatrix = []\n",
    "\n",
    "for line in program:\n",
    "    line_arr = list(line)\n",
    "    line_arr = line_arr[:len(line_arr)-1]\n",
    "    xmatrix.append(line_arr)\n",
    "\n",
    "xmatrix"
   ],
   "id": "85faba7078242453",
   "outputs": [],
   "execution_count": null
  },
  {
   "metadata": {},
   "cell_type": "code",
   "source": [
    "def check_for_xmas(subarr: list, reverse=False):\n",
    "    print(\"testing substr\", subarr, reverse)\n",
    "    if \"\".join(subarr) == 'XMAS' and not reverse:\n",
    "        print(\"found\", subarr)\n",
    "        return True\n",
    "    if \"\".join(subarr) == 'SAMX':\n",
    "        print(\"found\", subarr)\n",
    "        return True\n",
    "    return False"
   ],
   "id": "1ac3d4e976e66f9e",
   "outputs": [],
   "execution_count": null
  },
  {
   "metadata": {},
   "cell_type": "code",
   "source": "['2', 's', 'a', 'm', 'x', 'fgg'][1:5]",
   "id": "b12263dfb2a9bac3",
   "outputs": [],
   "execution_count": null
  },
  {
   "metadata": {},
   "cell_type": "code",
   "source": [
    "found_xmasses = 0\n",
    "\n",
    "for y, elem in enumerate(xmatrix):\n",
    "    for x, letter in enumerate(elem):\n",
    "        if letter == 'X':\n",
    "            if x >= 3:\n",
    "                if check_for_xmas(elem[x-3:x+1], reverse=True):\n",
    "                    found_xmasses += 1\n",
    "            if x <= len(elem) - 4:\n",
    "                if check_for_xmas(elem[x:x+4]):\n",
    "                    found_xmasses += 1\n",
    "            if y >= 3:\n",
    "                if check_for_xmas([xmatrix[y-idx][x] for idx in [3,2,1,0]], reverse=True):\n",
    "                    found_xmasses += 1\n",
    "            if y <= len(xmatrix) - 4:\n",
    "                if check_for_xmas([xmatrix[y+idx][x] for idx in [0,1,2,3]]):\n",
    "                    found_xmasses += 1\n",
    "            if y >= 3 and x >=3:\n",
    "                if check_for_xmas([xmatrix[y-idx][x-idx] for idx in [3,2,1,0]], reverse=True):\n",
    "                    found_xmasses += 1\n",
    "            if y >=3 and x <= len(elem) - 4:\n",
    "                if check_for_xmas([xmatrix[y-idx][x+idx] for idx in [3,2,1,0]], reverse=True):\n",
    "                    found_xmasses += 1\n",
    "            if y <= len(xmatrix) - 4 and x >= 3:\n",
    "                if check_for_xmas([xmatrix[y+idx][x-idx] for idx in [3,2,1,0]], reverse=True):\n",
    "                    found_xmasses += 1\n",
    "            if y <= len(xmatrix) - 4 and x <= len(elem) - 4:\n",
    "                if check_for_xmas([xmatrix[y+idx][x+idx] for idx in [3,2,1,0]], reverse=True):\n",
    "                    found_xmasses += 1"
   ],
   "id": "51b007bdd354cf3c",
   "outputs": [],
   "execution_count": null
  },
  {
   "metadata": {},
   "cell_type": "code",
   "source": [
    "def check_for_mas(subarr: list):\n",
    "    if \"\".join(subarr) == 'MAS':\n",
    "        print(\"found\", subarr)\n",
    "        return True\n",
    "    if \"\".join(subarr) == 'SAM':\n",
    "        print(\"found\", subarr)\n",
    "        return True\n",
    "    return False"
   ],
   "id": "b2535b1ea28a31db",
   "outputs": [],
   "execution_count": null
  },
  {
   "metadata": {},
   "cell_type": "code",
   "source": "found_xmasses",
   "id": "50394f2a3192f892",
   "outputs": [],
   "execution_count": null
  },
  {
   "metadata": {},
   "cell_type": "code",
   "source": [
    "found_masses = 0\n",
    "\n",
    "for y, elem in enumerate(xmatrix):\n",
    "    for x, letter in enumerate(elem):\n",
    "        if letter == 'A':\n",
    "            if 1 <= x <= len(elem) - 2 and 1 <= y <= len(xmatrix) - 2:\n",
    "                one_way = check_for_mas([xmatrix[y+idx][x+idx] for idx in [-1, 0, 1]])\n",
    "                the_other_way = check_for_mas([xmatrix[y+idx][x-idx] for idx in [-1, 0, 1]])\n",
    "                if one_way and the_other_way:\n",
    "                    found_masses += 1\n",
    "found_masses"
   ],
   "id": "cce4f21e94b3a76e",
   "outputs": [],
   "execution_count": null
  }
 ],
 "metadata": {
  "kernelspec": {
   "display_name": "Python 3",
   "language": "python",
   "name": "python3"
  },
  "language_info": {
   "codemirror_mode": {
    "name": "ipython",
    "version": 2
   },
   "file_extension": ".py",
   "mimetype": "text/x-python",
   "name": "python",
   "nbconvert_exporter": "python",
   "pygments_lexer": "ipython2",
   "version": "2.7.6"
  }
 },
 "nbformat": 4,
 "nbformat_minor": 5
}
