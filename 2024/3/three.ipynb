{
 "cells": [
  {
   "cell_type": "code",
   "id": "initial_id",
   "metadata": {
    "collapsed": true
   },
   "source": [
    "from prompt_toolkit.key_binding.bindings.search import accept_search_and_accept_input\n",
    "\n",
    "filename = '3/program.txt'\n",
    "\n",
    "with open(filename) as f:\n",
    "    program = f.readlines()"
   ],
   "outputs": [],
   "execution_count": null
  },
  {
   "metadata": {},
   "cell_type": "code",
   "source": [
    "len(program)\n",
    "import functools\n",
    "new_prog = functools.reduce(lambda a, b: a+b, program)\n",
    "print(new_prog)"
   ],
   "id": "85faba7078242453",
   "outputs": [],
   "execution_count": null
  },
  {
   "metadata": {},
   "cell_type": "code",
   "source": [
    "import re\n",
    "muls = re.findall(r'mul\\(\\d*,\\d*\\)', new_prog)\n",
    "muls"
   ],
   "id": "b8bed80fdee0d1cf",
   "outputs": [],
   "execution_count": null
  },
  {
   "metadata": {},
   "cell_type": "code",
   "source": [
    "sum = 0\n",
    "\n",
    "for mul in muls:\n",
    "    nums = re.findall(r'\\d+', mul)\n",
    "    print(nums)\n",
    "    sum += int(nums[0]) * int(nums[1])\n",
    "\n",
    "sum\n",
    "    "
   ],
   "id": "f96a2c4635fa7e3d",
   "outputs": [],
   "execution_count": null
  },
  {
   "metadata": {},
   "cell_type": "code",
   "source": [
    "muls = re.findall(r'(mul\\(\\d*,\\d*\\))|(do\\(\\))|(don\\'t\\(\\))', new_prog)\n",
    "muls"
   ],
   "id": "627c296f204133a7",
   "outputs": [],
   "execution_count": null
  },
  {
   "metadata": {},
   "cell_type": "code",
   "source": [
    "activated = True\n",
    "\n",
    "sum = 0\n",
    "\n",
    "for mul in muls:\n",
    "    if mul[0] and activated:\n",
    "        print(\"found number and counting\", mul)\n",
    "        nums = re.findall(r'\\d+', mul[0])\n",
    "        sum += int(nums[0]) * int(nums[1])\n",
    "        continue\n",
    "    elif mul[1] and not activated:\n",
    "        print(\"found do and activating\", mul)\n",
    "        activated = True\n",
    "        continue\n",
    "    elif mul[2] and activated:\n",
    "        print(\"found dont and deactivating\", mul)\n",
    "        activated = False\n",
    "\n",
    "sum"
   ],
   "id": "9edc70af8a2c3cd6",
   "outputs": [],
   "execution_count": null
  }
 ],
 "metadata": {
  "kernelspec": {
   "display_name": "Python 3",
   "language": "python",
   "name": "python3"
  },
  "language_info": {
   "codemirror_mode": {
    "name": "ipython",
    "version": 2
   },
   "file_extension": ".py",
   "mimetype": "text/x-python",
   "name": "python",
   "nbconvert_exporter": "python",
   "pygments_lexer": "ipython2",
   "version": "2.7.6"
  }
 },
 "nbformat": 4,
 "nbformat_minor": 5
}
