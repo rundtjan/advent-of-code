{
 "cells": [
  {
   "metadata": {
    "ExecuteTime": {
     "end_time": "2024-12-16T08:10:14.522910Z",
     "start_time": "2024-12-16T08:10:14.516511Z"
    }
   },
   "cell_type": "code",
   "source": [
    "import re\n",
    "\n",
    "filename = 'input.txt'\n",
    "\n",
    "with open(filename) as f:\n",
    "    bots_raw = f.readlines()\n",
    "\n",
    "bots = []\n",
    "\n",
    "for bot in bots_raw:\n",
    "    found = re.findall(r\"-?[\\d]+\", bot)\n",
    "    found = [int(x) for x in found]\n",
    "    bots.append(((found[0], found[1]), (found[2], found[3])))\n"
   ],
   "id": "8833ca9297243a27",
   "outputs": [],
   "execution_count": 18
  },
  {
   "metadata": {
    "ExecuteTime": {
     "end_time": "2024-12-16T08:10:14.573624Z",
     "start_time": "2024-12-16T08:10:14.565705Z"
    }
   },
   "cell_type": "code",
   "source": [
    "n = 100\n",
    "width = 101\n",
    "length = 103\n",
    "\n",
    "qs = [[0, 0], [0, 0]]\n",
    "\n",
    "def check_quadrant(position, width, length):\n",
    "    pos_x = position[0] % width\n",
    "    pos_y = position[1] % length\n",
    "    x_side = 0\n",
    "    y_side = 0\n",
    "    x_middle = int(width/2)\n",
    "    y_middle = int(length/2)\n",
    "    if pos_x == x_middle or pos_y == y_middle:\n",
    "        return \"in middle\"\n",
    "    if pos_x > x_middle:\n",
    "        x_side = 1\n",
    "    if pos_y > y_middle:\n",
    "        y_side = 1\n",
    "    qs[y_side][x_side] += 1\n",
    "    # print( pos_x, pos_y )\n",
    "\n",
    "for bot in bots:\n",
    "    new_pos = (bot[0][0] + bot[1][0] * n, bot[0][1] + bot[1][1] * n)\n",
    "    check_quadrant(new_pos, width, length)\n",
    "\n",
    "qs\n"
   ],
   "id": "e76e046f00d2a8e6",
   "outputs": [
    {
     "data": {
      "text/plain": [
       "[[121, 119], [132, 119]]"
      ]
     },
     "execution_count": 19,
     "metadata": {},
     "output_type": "execute_result"
    }
   ],
   "execution_count": 19
  },
  {
   "metadata": {
    "ExecuteTime": {
     "end_time": "2024-12-16T08:10:14.627511Z",
     "start_time": "2024-12-16T08:10:14.623603Z"
    }
   },
   "cell_type": "code",
   "source": [
    "product = 1\n",
    "\n",
    "for row in qs:\n",
    "    for elem in row:\n",
    "        product *= elem\n",
    "\n",
    "product"
   ],
   "id": "a73e28dc581eed1f",
   "outputs": [
    {
     "data": {
      "text/plain": [
       "226179492"
      ]
     },
     "execution_count": 20,
     "metadata": {},
     "output_type": "execute_result"
    }
   ],
   "execution_count": 20
  }
 ],
 "metadata": {
  "kernelspec": {
   "name": "python3",
   "language": "python",
   "display_name": "Python 3 (ipykernel)"
  }
 },
 "nbformat": 5,
 "nbformat_minor": 9
}
